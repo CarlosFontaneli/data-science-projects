{
  "cells": [
    {
      "cell_type": "code",
      "execution_count": 1,
      "metadata": {
        "id": "G0J-1LFBQFgh"
      },
      "outputs": [],
      "source": [
        "# Vamos importar as bibliotecas necessárias\n",
        "import pandas as pd\n",
        "import graphviz\n",
        "from sklearn.tree import DecisionTreeClassifier \n",
        "from sklearn.model_selection import train_test_split \n",
        "from sklearn import metrics \n",
        "from sklearn.tree import export_graphviz"
      ]
    },
    {
      "cell_type": "markdown",
      "metadata": {
        "id": "AN1XlIqcR0ZP"
      },
      "source": [
        "Em nosso experimento vamos utilizar o conjunto de dados \"Pima Indians Diabetes Database\". O objetivo do conjunto de dados é prever diagnosticamente se um paciente tem ou não diabetes, com base em certas medidas de diagnóstico incluídas no conjunto de dados. As variáveis preditoras incluem o número de gestações que a paciente teve, seu IMC, nível de insulina, idade, entre outras.\n",
        "\n",
        "Os dados podem ser baixados de https://www.kaggle.com/datasets/uciml/pima-indians-diabetes-database"
      ]
    },
    {
      "cell_type": "code",
      "execution_count": 2,
      "metadata": {
        "id": "dnGvMQsVQR-6"
      },
      "outputs": [
        {
          "data": {
            "text/plain": [
              "\" # Questao 1\\ncol_names = ['A1', 'A2', 'A3', 'Classe']\\n\\n# Importação\\npima = pd.DataFrame()\\npima['A1'] = [0, 0, 1, 0, 0] # a = 0 \\npima['A2'] = [1, 1, 1, 0, 0] # v = 1\\npima['A3'] = [1, 0, 0, 1, 0] # sim = 1\\npima['Classe'] = [1, 1, 0 , 1, 0]\\npima\\n \""
            ]
          },
          "execution_count": 2,
          "metadata": {},
          "output_type": "execute_result"
        }
      ],
      "source": [
        "''' # Questao 1\n",
        "col_names = ['A1', 'A2', 'A3', 'Classe']\n",
        "\n",
        "# Importação\n",
        "pima = pd.DataFrame()\n",
        "pima['A1'] = [0, 0, 1, 0, 0] # a = 0 \n",
        "pima['A2'] = [1, 1, 1, 0, 0] # v = 1\n",
        "pima['A3'] = [1, 0, 0, 1, 0] # sim = 1\n",
        "pima['Classe'] = [1, 1, 0 , 1, 0]\n",
        "pima\n",
        " '''"
      ]
    },
    {
      "cell_type": "code",
      "execution_count": 3,
      "metadata": {},
      "outputs": [
        {
          "data": {
            "text/plain": [
              "\" # Questao 2\\ncol_names = ['A1', 'A2', 'A3', 'Classe']\\n\\n# Importação\\npima = pd.DataFrame()\\npima['A1'] = [0, 1, 1, 0, 1, 0] # a = 0 \\npima['A2'] = [1, 0, 2, 2, 1, 0] # v = 1\\npima['A3'] = [1, 1, 1, 0, 0, 0] # v = 1\\n\\npima['Classe'] = [1, 1, 0, 0, 0, 1]\\n\\n# Vamos separar as variáveis preditoras da variável label\\nfeature_cols = ['A1', 'A2', 'A3']\\nX = pima[feature_cols]\\ny = pima['Classe']  \""
            ]
          },
          "execution_count": 3,
          "metadata": {},
          "output_type": "execute_result"
        }
      ],
      "source": [
        "''' # Questao 2\n",
        "col_names = ['A1', 'A2', 'A3', 'Classe']\n",
        "\n",
        "# Importação\n",
        "pima = pd.DataFrame()\n",
        "pima['A1'] = [0, 1, 1, 0, 1, 0] # a = 0 \n",
        "pima['A2'] = [1, 0, 2, 2, 1, 0] # v = 1\n",
        "pima['A3'] = [1, 1, 1, 0, 0, 0] # v = 1\n",
        "\n",
        "pima['Classe'] = [1, 1, 0, 0, 0, 1]\n",
        "\n",
        "# Vamos separar as variáveis preditoras da variável label\n",
        "feature_cols = ['A1', 'A2', 'A3']\n",
        "X = pima[feature_cols]\n",
        "y = pima['Classe']  '''"
      ]
    },
    {
      "cell_type": "code",
      "execution_count": 4,
      "metadata": {},
      "outputs": [
        {
          "data": {
            "text/plain": [
              "\" # Questao 3\\ncol_names = ['A1', 'A2', 'Classe']\\n\\n# Importação\\npima = pd.DataFrame()\\npima['A1'] = [0, 1, 0, 0, 1, 0] # a = 0 \\npima['A2'] = [1, 0, 2, 1, 2, 0] # v = 1\\n\\npima['Classe'] = [0, 0, 1, 1, 2, 2]\\n\\n# Vamos separar as variáveis preditoras da variável label\\nfeature_cols = ['A1', 'A2']\\nX = pima[feature_cols]\\ny = pima['Classe'] \""
            ]
          },
          "execution_count": 4,
          "metadata": {},
          "output_type": "execute_result"
        }
      ],
      "source": [
        "''' # Questao 3\n",
        "col_names = ['A1', 'A2', 'Classe']\n",
        "\n",
        "# Importação\n",
        "pima = pd.DataFrame()\n",
        "pima['A1'] = [0, 1, 0, 0, 1, 0] # a = 0 \n",
        "pima['A2'] = [1, 0, 2, 1, 2, 0] # v = 1\n",
        "\n",
        "pima['Classe'] = [0, 0, 1, 1, 2, 2]\n",
        "\n",
        "# Vamos separar as variáveis preditoras da variável label\n",
        "feature_cols = ['A1', 'A2']\n",
        "X = pima[feature_cols]\n",
        "y = pima['Classe'] '''"
      ]
    },
    {
      "cell_type": "code",
      "execution_count": 5,
      "metadata": {
        "colab": {
          "base_uri": "https://localhost:8080/",
          "height": 423
        },
        "id": "2M3NhNSfTZQN",
        "outputId": "13cf2430-3b9f-4ecf-db3f-a2dbfe2da0e5"
      },
      "outputs": [
        {
          "ename": "NameError",
          "evalue": "name 'pima' is not defined",
          "output_type": "error",
          "traceback": [
            "\u001b[0;31m---------------------------------------------------------------------------\u001b[0m",
            "\u001b[0;31mNameError\u001b[0m                                 Traceback (most recent call last)",
            "\u001b[1;32m/home/fonta42/Desktop/IA/T8 - Arvore de Decisao/Exemplo_Arvore_Decisao.ipynb Cell 6'\u001b[0m in \u001b[0;36m<module>\u001b[0;34m\u001b[0m\n\u001b[1;32m      <a href='vscode-notebook-cell:/home/fonta42/Desktop/IA/T8%20-%20Arvore%20de%20Decisao/Exemplo_Arvore_Decisao.ipynb#ch0000005?line=0'>1</a>\u001b[0m \u001b[39m# Um pouco dos dados\u001b[39;00m\n\u001b[0;32m----> <a href='vscode-notebook-cell:/home/fonta42/Desktop/IA/T8%20-%20Arvore%20de%20Decisao/Exemplo_Arvore_Decisao.ipynb#ch0000005?line=1'>2</a>\u001b[0m pima\n",
            "\u001b[0;31mNameError\u001b[0m: name 'pima' is not defined"
          ]
        }
      ],
      "source": [
        "# Um pouco dos dados\n",
        "pima"
      ]
    },
    {
      "cell_type": "code",
      "execution_count": null,
      "metadata": {
        "id": "oH2PYSfaWlr5"
      },
      "outputs": [],
      "source": [
        "# Vamos separar nosso conjunto de dados em partições de treino e teste\n",
        "X_train, X_test, y_train, y_test = train_test_split(X, y, test_size=0.2, random_state=1) "
      ]
    },
    {
      "cell_type": "code",
      "execution_count": null,
      "metadata": {
        "id": "vfdSlgJ4W1Rb"
      },
      "outputs": [],
      "source": [
        "# Vamos treinar a nossa Árvore de Decisão\n",
        "\n",
        "# Objeto de DecisionTreeClassifier\n",
        "clf = DecisionTreeClassifier(criterion='entropy')\n",
        "\n",
        "# Treinamento do classificador\n",
        "model = clf.fit(X_train,y_train)"
      ]
    },
    {
      "cell_type": "code",
      "execution_count": null,
      "metadata": {
        "id": "BquuXDCqXcYi"
      },
      "outputs": [],
      "source": [
        "# Vamos criar uma função para visualizar nossa árvore\n",
        "def plot_tree(tree, plot_title):\n",
        "\n",
        "  # Dados do gráfico\n",
        "  graph_data = export_graphviz(tree,\n",
        "                               feature_names=feature_cols,\n",
        "                               class_names=['0','1'],\n",
        "                               filled=True,\n",
        "                               rounded=True,\n",
        "                               out_file=None)\n",
        "  # Gerando o gráfico\n",
        "  graph = graphviz.Source(graph_data)\n",
        "  graph.render(plot_title)\n",
        "\n",
        "  return graph"
      ]
    },
    {
      "cell_type": "code",
      "execution_count": null,
      "metadata": {
        "colab": {
          "base_uri": "https://localhost:8080/",
          "height": 1000
        },
        "id": "bS_NzFl_fIkP",
        "outputId": "cb87ffde-b2eb-413f-b01e-b9be5f0acacf"
      },
      "outputs": [
        {
          "ename": "IndexError",
          "evalue": "list index out of range",
          "output_type": "error",
          "traceback": [
            "\u001b[0;31m---------------------------------------------------------------------------\u001b[0m",
            "\u001b[0;31mIndexError\u001b[0m                                Traceback (most recent call last)",
            "\u001b[1;32m/home/fonta42/Desktop/IA/T8 - Arvore de Decisao/Exemplo_Arvore_Decisao.ipynb Cell 10'\u001b[0m in \u001b[0;36m<module>\u001b[0;34m\u001b[0m\n\u001b[1;32m      <a href='vscode-notebook-cell:/home/fonta42/Desktop/IA/T8%20-%20Arvore%20de%20Decisao/Exemplo_Arvore_Decisao.ipynb#ch0000008?line=0'>1</a>\u001b[0m \u001b[39m# Gerar o gráfico\u001b[39;00m\n\u001b[0;32m----> <a href='vscode-notebook-cell:/home/fonta42/Desktop/IA/T8%20-%20Arvore%20de%20Decisao/Exemplo_Arvore_Decisao.ipynb#ch0000008?line=1'>2</a>\u001b[0m model_graph \u001b[39m=\u001b[39m plot_tree(model,\u001b[39m'\u001b[39;49m\u001b[39mDiabetes\u001b[39;49m\u001b[39m'\u001b[39;49m)\n\u001b[1;32m      <a href='vscode-notebook-cell:/home/fonta42/Desktop/IA/T8%20-%20Arvore%20de%20Decisao/Exemplo_Arvore_Decisao.ipynb#ch0000008?line=2'>3</a>\u001b[0m model_graph\n",
            "\u001b[1;32m/home/fonta42/Desktop/IA/T8 - Arvore de Decisao/Exemplo_Arvore_Decisao.ipynb Cell 9'\u001b[0m in \u001b[0;36mplot_tree\u001b[0;34m(tree, plot_title)\u001b[0m\n\u001b[1;32m      <a href='vscode-notebook-cell:/home/fonta42/Desktop/IA/T8%20-%20Arvore%20de%20Decisao/Exemplo_Arvore_Decisao.ipynb#ch0000007?line=1'>2</a>\u001b[0m \u001b[39mdef\u001b[39;00m \u001b[39mplot_tree\u001b[39m(tree, plot_title):\n\u001b[1;32m      <a href='vscode-notebook-cell:/home/fonta42/Desktop/IA/T8%20-%20Arvore%20de%20Decisao/Exemplo_Arvore_Decisao.ipynb#ch0000007?line=2'>3</a>\u001b[0m \n\u001b[1;32m      <a href='vscode-notebook-cell:/home/fonta42/Desktop/IA/T8%20-%20Arvore%20de%20Decisao/Exemplo_Arvore_Decisao.ipynb#ch0000007?line=3'>4</a>\u001b[0m   \u001b[39m# Dados do gráfico\u001b[39;00m\n\u001b[0;32m----> <a href='vscode-notebook-cell:/home/fonta42/Desktop/IA/T8%20-%20Arvore%20de%20Decisao/Exemplo_Arvore_Decisao.ipynb#ch0000007?line=4'>5</a>\u001b[0m   graph_data \u001b[39m=\u001b[39m export_graphviz(tree,\n\u001b[1;32m      <a href='vscode-notebook-cell:/home/fonta42/Desktop/IA/T8%20-%20Arvore%20de%20Decisao/Exemplo_Arvore_Decisao.ipynb#ch0000007?line=5'>6</a>\u001b[0m                                feature_names\u001b[39m=\u001b[39;49mfeature_cols,\n\u001b[1;32m      <a href='vscode-notebook-cell:/home/fonta42/Desktop/IA/T8%20-%20Arvore%20de%20Decisao/Exemplo_Arvore_Decisao.ipynb#ch0000007?line=6'>7</a>\u001b[0m                                class_names\u001b[39m=\u001b[39;49m[\u001b[39m'\u001b[39;49m\u001b[39m0\u001b[39;49m\u001b[39m'\u001b[39;49m,\u001b[39m'\u001b[39;49m\u001b[39m1\u001b[39;49m\u001b[39m'\u001b[39;49m],\n\u001b[1;32m      <a href='vscode-notebook-cell:/home/fonta42/Desktop/IA/T8%20-%20Arvore%20de%20Decisao/Exemplo_Arvore_Decisao.ipynb#ch0000007?line=7'>8</a>\u001b[0m                                filled\u001b[39m=\u001b[39;49m\u001b[39mTrue\u001b[39;49;00m,\n\u001b[1;32m      <a href='vscode-notebook-cell:/home/fonta42/Desktop/IA/T8%20-%20Arvore%20de%20Decisao/Exemplo_Arvore_Decisao.ipynb#ch0000007?line=8'>9</a>\u001b[0m                                rounded\u001b[39m=\u001b[39;49m\u001b[39mTrue\u001b[39;49;00m,\n\u001b[1;32m     <a href='vscode-notebook-cell:/home/fonta42/Desktop/IA/T8%20-%20Arvore%20de%20Decisao/Exemplo_Arvore_Decisao.ipynb#ch0000007?line=9'>10</a>\u001b[0m                                out_file\u001b[39m=\u001b[39;49m\u001b[39mNone\u001b[39;49;00m)\n\u001b[1;32m     <a href='vscode-notebook-cell:/home/fonta42/Desktop/IA/T8%20-%20Arvore%20de%20Decisao/Exemplo_Arvore_Decisao.ipynb#ch0000007?line=10'>11</a>\u001b[0m   \u001b[39m# Gerando o gráfico\u001b[39;00m\n\u001b[1;32m     <a href='vscode-notebook-cell:/home/fonta42/Desktop/IA/T8%20-%20Arvore%20de%20Decisao/Exemplo_Arvore_Decisao.ipynb#ch0000007?line=11'>12</a>\u001b[0m   graph \u001b[39m=\u001b[39m graphviz\u001b[39m.\u001b[39mSource(graph_data)\n",
            "File \u001b[0;32m~/anaconda3/envs/IA/lib/python3.10/site-packages/sklearn/tree/_export.py:889\u001b[0m, in \u001b[0;36mexport_graphviz\u001b[0;34m(decision_tree, out_file, max_depth, feature_names, class_names, label, filled, leaves_parallel, impurity, node_ids, proportion, rotate, rounded, special_characters, precision, fontname)\u001b[0m\n\u001b[1;32m    <a href='file:///home/fonta42/anaconda3/envs/IA/lib/python3.10/site-packages/sklearn/tree/_export.py?line=869'>870</a>\u001b[0m     out_file \u001b[39m=\u001b[39m StringIO()\n\u001b[1;32m    <a href='file:///home/fonta42/anaconda3/envs/IA/lib/python3.10/site-packages/sklearn/tree/_export.py?line=871'>872</a>\u001b[0m exporter \u001b[39m=\u001b[39m _DOTTreeExporter(\n\u001b[1;32m    <a href='file:///home/fonta42/anaconda3/envs/IA/lib/python3.10/site-packages/sklearn/tree/_export.py?line=872'>873</a>\u001b[0m     out_file\u001b[39m=\u001b[39mout_file,\n\u001b[1;32m    <a href='file:///home/fonta42/anaconda3/envs/IA/lib/python3.10/site-packages/sklearn/tree/_export.py?line=873'>874</a>\u001b[0m     max_depth\u001b[39m=\u001b[39mmax_depth,\n\u001b[0;32m   (...)\u001b[0m\n\u001b[1;32m    <a href='file:///home/fonta42/anaconda3/envs/IA/lib/python3.10/site-packages/sklearn/tree/_export.py?line=886'>887</a>\u001b[0m     fontname\u001b[39m=\u001b[39mfontname,\n\u001b[1;32m    <a href='file:///home/fonta42/anaconda3/envs/IA/lib/python3.10/site-packages/sklearn/tree/_export.py?line=887'>888</a>\u001b[0m )\n\u001b[0;32m--> <a href='file:///home/fonta42/anaconda3/envs/IA/lib/python3.10/site-packages/sklearn/tree/_export.py?line=888'>889</a>\u001b[0m exporter\u001b[39m.\u001b[39;49mexport(decision_tree)\n\u001b[1;32m    <a href='file:///home/fonta42/anaconda3/envs/IA/lib/python3.10/site-packages/sklearn/tree/_export.py?line=890'>891</a>\u001b[0m \u001b[39mif\u001b[39;00m return_string:\n\u001b[1;32m    <a href='file:///home/fonta42/anaconda3/envs/IA/lib/python3.10/site-packages/sklearn/tree/_export.py?line=891'>892</a>\u001b[0m     \u001b[39mreturn\u001b[39;00m exporter\u001b[39m.\u001b[39mout_file\u001b[39m.\u001b[39mgetvalue()\n",
            "File \u001b[0;32m~/anaconda3/envs/IA/lib/python3.10/site-packages/sklearn/tree/_export.py:462\u001b[0m, in \u001b[0;36m_DOTTreeExporter.export\u001b[0;34m(self, decision_tree)\u001b[0m\n\u001b[1;32m    <a href='file:///home/fonta42/anaconda3/envs/IA/lib/python3.10/site-packages/sklearn/tree/_export.py?line=459'>460</a>\u001b[0m     \u001b[39mself\u001b[39m\u001b[39m.\u001b[39mrecurse(decision_tree, \u001b[39m0\u001b[39m, criterion\u001b[39m=\u001b[39m\u001b[39m\"\u001b[39m\u001b[39mimpurity\u001b[39m\u001b[39m\"\u001b[39m)\n\u001b[1;32m    <a href='file:///home/fonta42/anaconda3/envs/IA/lib/python3.10/site-packages/sklearn/tree/_export.py?line=460'>461</a>\u001b[0m \u001b[39melse\u001b[39;00m:\n\u001b[0;32m--> <a href='file:///home/fonta42/anaconda3/envs/IA/lib/python3.10/site-packages/sklearn/tree/_export.py?line=461'>462</a>\u001b[0m     \u001b[39mself\u001b[39;49m\u001b[39m.\u001b[39;49mrecurse(decision_tree\u001b[39m.\u001b[39;49mtree_, \u001b[39m0\u001b[39;49m, criterion\u001b[39m=\u001b[39;49mdecision_tree\u001b[39m.\u001b[39;49mcriterion)\n\u001b[1;32m    <a href='file:///home/fonta42/anaconda3/envs/IA/lib/python3.10/site-packages/sklearn/tree/_export.py?line=463'>464</a>\u001b[0m \u001b[39mself\u001b[39m\u001b[39m.\u001b[39mtail()\n",
            "File \u001b[0;32m~/anaconda3/envs/IA/lib/python3.10/site-packages/sklearn/tree/_export.py:544\u001b[0m, in \u001b[0;36m_DOTTreeExporter.recurse\u001b[0;34m(self, tree, node_id, criterion, parent, depth)\u001b[0m\n\u001b[1;32m    <a href='file:///home/fonta42/anaconda3/envs/IA/lib/python3.10/site-packages/sklearn/tree/_export.py?line=540'>541</a>\u001b[0m         \u001b[39mself\u001b[39m\u001b[39m.\u001b[39mout_file\u001b[39m.\u001b[39mwrite(\u001b[39m\"\u001b[39m\u001b[39m ;\u001b[39m\u001b[39m\\n\u001b[39;00m\u001b[39m\"\u001b[39m)\n\u001b[1;32m    <a href='file:///home/fonta42/anaconda3/envs/IA/lib/python3.10/site-packages/sklearn/tree/_export.py?line=542'>543</a>\u001b[0m     \u001b[39mif\u001b[39;00m left_child \u001b[39m!=\u001b[39m _tree\u001b[39m.\u001b[39mTREE_LEAF:\n\u001b[0;32m--> <a href='file:///home/fonta42/anaconda3/envs/IA/lib/python3.10/site-packages/sklearn/tree/_export.py?line=543'>544</a>\u001b[0m         \u001b[39mself\u001b[39;49m\u001b[39m.\u001b[39;49mrecurse(\n\u001b[1;32m    <a href='file:///home/fonta42/anaconda3/envs/IA/lib/python3.10/site-packages/sklearn/tree/_export.py?line=544'>545</a>\u001b[0m             tree,\n\u001b[1;32m    <a href='file:///home/fonta42/anaconda3/envs/IA/lib/python3.10/site-packages/sklearn/tree/_export.py?line=545'>546</a>\u001b[0m             left_child,\n\u001b[1;32m    <a href='file:///home/fonta42/anaconda3/envs/IA/lib/python3.10/site-packages/sklearn/tree/_export.py?line=546'>547</a>\u001b[0m             criterion\u001b[39m=\u001b[39;49mcriterion,\n\u001b[1;32m    <a href='file:///home/fonta42/anaconda3/envs/IA/lib/python3.10/site-packages/sklearn/tree/_export.py?line=547'>548</a>\u001b[0m             parent\u001b[39m=\u001b[39;49mnode_id,\n\u001b[1;32m    <a href='file:///home/fonta42/anaconda3/envs/IA/lib/python3.10/site-packages/sklearn/tree/_export.py?line=548'>549</a>\u001b[0m             depth\u001b[39m=\u001b[39;49mdepth \u001b[39m+\u001b[39;49m \u001b[39m1\u001b[39;49m,\n\u001b[1;32m    <a href='file:///home/fonta42/anaconda3/envs/IA/lib/python3.10/site-packages/sklearn/tree/_export.py?line=549'>550</a>\u001b[0m         )\n\u001b[1;32m    <a href='file:///home/fonta42/anaconda3/envs/IA/lib/python3.10/site-packages/sklearn/tree/_export.py?line=550'>551</a>\u001b[0m         \u001b[39mself\u001b[39m\u001b[39m.\u001b[39mrecurse(\n\u001b[1;32m    <a href='file:///home/fonta42/anaconda3/envs/IA/lib/python3.10/site-packages/sklearn/tree/_export.py?line=551'>552</a>\u001b[0m             tree,\n\u001b[1;32m    <a href='file:///home/fonta42/anaconda3/envs/IA/lib/python3.10/site-packages/sklearn/tree/_export.py?line=552'>553</a>\u001b[0m             right_child,\n\u001b[0;32m   (...)\u001b[0m\n\u001b[1;32m    <a href='file:///home/fonta42/anaconda3/envs/IA/lib/python3.10/site-packages/sklearn/tree/_export.py?line=555'>556</a>\u001b[0m             depth\u001b[39m=\u001b[39mdepth \u001b[39m+\u001b[39m \u001b[39m1\u001b[39m,\n\u001b[1;32m    <a href='file:///home/fonta42/anaconda3/envs/IA/lib/python3.10/site-packages/sklearn/tree/_export.py?line=556'>557</a>\u001b[0m         )\n\u001b[1;32m    <a href='file:///home/fonta42/anaconda3/envs/IA/lib/python3.10/site-packages/sklearn/tree/_export.py?line=558'>559</a>\u001b[0m \u001b[39melse\u001b[39;00m:\n",
            "File \u001b[0;32m~/anaconda3/envs/IA/lib/python3.10/site-packages/sklearn/tree/_export.py:521\u001b[0m, in \u001b[0;36m_DOTTreeExporter.recurse\u001b[0;34m(self, tree, node_id, criterion, parent, depth)\u001b[0m\n\u001b[1;32m    <a href='file:///home/fonta42/anaconda3/envs/IA/lib/python3.10/site-packages/sklearn/tree/_export.py?line=516'>517</a>\u001b[0m \u001b[39melse\u001b[39;00m:\n\u001b[1;32m    <a href='file:///home/fonta42/anaconda3/envs/IA/lib/python3.10/site-packages/sklearn/tree/_export.py?line=517'>518</a>\u001b[0m     \u001b[39mself\u001b[39m\u001b[39m.\u001b[39mranks[\u001b[39mstr\u001b[39m(depth)]\u001b[39m.\u001b[39mappend(\u001b[39mstr\u001b[39m(node_id))\n\u001b[1;32m    <a href='file:///home/fonta42/anaconda3/envs/IA/lib/python3.10/site-packages/sklearn/tree/_export.py?line=519'>520</a>\u001b[0m \u001b[39mself\u001b[39m\u001b[39m.\u001b[39mout_file\u001b[39m.\u001b[39mwrite(\n\u001b[0;32m--> <a href='file:///home/fonta42/anaconda3/envs/IA/lib/python3.10/site-packages/sklearn/tree/_export.py?line=520'>521</a>\u001b[0m     \u001b[39m\"\u001b[39m\u001b[39m%d\u001b[39;00m\u001b[39m [label=\u001b[39m\u001b[39m%s\u001b[39;00m\u001b[39m\"\u001b[39m \u001b[39m%\u001b[39m (node_id, \u001b[39mself\u001b[39;49m\u001b[39m.\u001b[39;49mnode_to_str(tree, node_id, criterion))\n\u001b[1;32m    <a href='file:///home/fonta42/anaconda3/envs/IA/lib/python3.10/site-packages/sklearn/tree/_export.py?line=521'>522</a>\u001b[0m )\n\u001b[1;32m    <a href='file:///home/fonta42/anaconda3/envs/IA/lib/python3.10/site-packages/sklearn/tree/_export.py?line=523'>524</a>\u001b[0m \u001b[39mif\u001b[39;00m \u001b[39mself\u001b[39m\u001b[39m.\u001b[39mfilled:\n\u001b[1;32m    <a href='file:///home/fonta42/anaconda3/envs/IA/lib/python3.10/site-packages/sklearn/tree/_export.py?line=524'>525</a>\u001b[0m     \u001b[39mself\u001b[39m\u001b[39m.\u001b[39mout_file\u001b[39m.\u001b[39mwrite(\n\u001b[1;32m    <a href='file:///home/fonta42/anaconda3/envs/IA/lib/python3.10/site-packages/sklearn/tree/_export.py?line=525'>526</a>\u001b[0m         \u001b[39m'\u001b[39m\u001b[39m, fillcolor=\u001b[39m\u001b[39m\"\u001b[39m\u001b[39m%s\u001b[39;00m\u001b[39m\"\u001b[39m\u001b[39m'\u001b[39m \u001b[39m%\u001b[39m \u001b[39mself\u001b[39m\u001b[39m.\u001b[39mget_fill_color(tree, node_id)\n\u001b[1;32m    <a href='file:///home/fonta42/anaconda3/envs/IA/lib/python3.10/site-packages/sklearn/tree/_export.py?line=526'>527</a>\u001b[0m     )\n",
            "File \u001b[0;32m~/anaconda3/envs/IA/lib/python3.10/site-packages/sklearn/tree/_export.py:367\u001b[0m, in \u001b[0;36m_BaseTreeExporter.node_to_str\u001b[0;34m(self, tree, node_id, criterion)\u001b[0m\n\u001b[1;32m    <a href='file:///home/fonta42/anaconda3/envs/IA/lib/python3.10/site-packages/sklearn/tree/_export.py?line=364'>365</a>\u001b[0m     node_string \u001b[39m+\u001b[39m\u001b[39m=\u001b[39m \u001b[39m\"\u001b[39m\u001b[39mclass = \u001b[39m\u001b[39m\"\u001b[39m\n\u001b[1;32m    <a href='file:///home/fonta42/anaconda3/envs/IA/lib/python3.10/site-packages/sklearn/tree/_export.py?line=365'>366</a>\u001b[0m \u001b[39mif\u001b[39;00m \u001b[39mself\u001b[39m\u001b[39m.\u001b[39mclass_names \u001b[39mis\u001b[39;00m \u001b[39mnot\u001b[39;00m \u001b[39mTrue\u001b[39;00m:\n\u001b[0;32m--> <a href='file:///home/fonta42/anaconda3/envs/IA/lib/python3.10/site-packages/sklearn/tree/_export.py?line=366'>367</a>\u001b[0m     class_name \u001b[39m=\u001b[39m \u001b[39mself\u001b[39;49m\u001b[39m.\u001b[39;49mclass_names[np\u001b[39m.\u001b[39;49margmax(value)]\n\u001b[1;32m    <a href='file:///home/fonta42/anaconda3/envs/IA/lib/python3.10/site-packages/sklearn/tree/_export.py?line=367'>368</a>\u001b[0m \u001b[39melse\u001b[39;00m:\n\u001b[1;32m    <a href='file:///home/fonta42/anaconda3/envs/IA/lib/python3.10/site-packages/sklearn/tree/_export.py?line=368'>369</a>\u001b[0m     class_name \u001b[39m=\u001b[39m \u001b[39m\"\u001b[39m\u001b[39my\u001b[39m\u001b[39m%s\u001b[39;00m\u001b[39m%s\u001b[39;00m\u001b[39m%s\u001b[39;00m\u001b[39m\"\u001b[39m \u001b[39m%\u001b[39m (\n\u001b[1;32m    <a href='file:///home/fonta42/anaconda3/envs/IA/lib/python3.10/site-packages/sklearn/tree/_export.py?line=369'>370</a>\u001b[0m         characters[\u001b[39m1\u001b[39m],\n\u001b[1;32m    <a href='file:///home/fonta42/anaconda3/envs/IA/lib/python3.10/site-packages/sklearn/tree/_export.py?line=370'>371</a>\u001b[0m         np\u001b[39m.\u001b[39margmax(value),\n\u001b[1;32m    <a href='file:///home/fonta42/anaconda3/envs/IA/lib/python3.10/site-packages/sklearn/tree/_export.py?line=371'>372</a>\u001b[0m         characters[\u001b[39m2\u001b[39m],\n\u001b[1;32m    <a href='file:///home/fonta42/anaconda3/envs/IA/lib/python3.10/site-packages/sklearn/tree/_export.py?line=372'>373</a>\u001b[0m     )\n",
            "\u001b[0;31mIndexError\u001b[0m: list index out of range"
          ]
        }
      ],
      "source": [
        "# Gerar o gráfico\n",
        "model_graph = plot_tree(model,'Diabetes')\n",
        "model_graph"
      ]
    },
    {
      "cell_type": "code",
      "execution_count": null,
      "metadata": {
        "colab": {
          "base_uri": "https://localhost:8080/"
        },
        "id": "27raP3igfRSU",
        "outputId": "3d7bd268-6658-4c2b-937e-966507b15865"
      },
      "outputs": [
        {
          "name": "stdout",
          "output_type": "stream",
          "text": [
            "Acurácia: 0.0\n"
          ]
        }
      ],
      "source": [
        "# Vamos testar e avaliar nossa árvore de decisão no conjunto de teste\n",
        "\n",
        "# Pega as predições\n",
        "y_pred = model.predict(X_test)\n",
        "\n",
        "# Acurácia das predições\n",
        "print(\"Acurácia:\",metrics.accuracy_score(y_test, y_pred))"
      ]
    },
    {
      "cell_type": "code",
      "execution_count": null,
      "metadata": {
        "id": "7sOLcexPfw2L"
      },
      "outputs": [
        {
          "name": "stdout",
          "output_type": "stream",
          "text": [
            "[1.0, 0.0, 0.0, 0.0, 0.0, 0.0, 0.0, 0.0, 0.0, 0.0, 0.0, 0.0, 0.0, 0.0, 0.0, 0.0, 0.0, 0.0, 0.0, 0.0, 0.0, 0.0, 0.0, 0.0, 0.0, 0.0, 0.0, 0.0, 0.0, 0.0, 0.0, 0.0, 0.0, 0.0, 0.0, 0.0, 0.0, 0.0, 0.0, 0.0, 0.0, 0.0, 0.0, 0.0, 0.0, 0.0, 0.0, 0.0, 0.0, 0.0, 0.0, 0.0, 0.0, 0.0, 0.0, 0.0, 0.0, 0.0, 0.0, 0.0, 0.0, 0.0, 0.0, 0.0, 0.0, 0.0, 0.0, 0.0, 0.0, 0.0, 0.0, 0.0, 0.0, 0.0, 0.0, 0.0, 0.0, 0.0, 0.0, 0.0, 0.0, 0.0, 0.0, 0.0, 0.0, 0.0, 0.0, 0.0, 0.0, 0.0, 0.0, 0.0, 0.0, 0.0, 0.0, 0.0, 0.0, 0.0, 0.0]\n",
            "Acurácia máxima: 1.0\n",
            " Profundida: 0\n"
          ]
        }
      ],
      "source": [
        "# Vamos otimizar nossa árvore, colocando uma profundidade máxima de 3 níveis (excluindo a raiz)\n",
        "# Isso vai servir como uma poda\n",
        "\n",
        "# Cria o objeto\n",
        "clf = DecisionTreeClassifier(criterion=\"entropy\", max_depth=100)\n",
        "\n",
        "# Treina o modelo\n",
        "model.prune = clf.fit(X_train,y_train)\n",
        "\n",
        "# Vamos testar o novo modelo nos mesmos dados de teste\n",
        "y_pred = model.prune.predict(X_test)\n",
        "\n",
        "best_depth = []\n",
        "for i in range(1, 100):\n",
        "  clf = DecisionTreeClassifier(criterion=\"entropy\", max_depth=i)\n",
        "  model.prune = clf.fit(X_train,y_train)\n",
        "  y_pred = model.prune.predict(X_test)\n",
        "  best_depth.append(metrics.accuracy_score(y_test, y_pred))\n",
        "print(best_depth)\n",
        "print(f'Acurácia máxima: {max(best_depth)}\\n Profundida: {best_depth.index(max(best_depth))}')"
      ]
    },
    {
      "cell_type": "code",
      "execution_count": null,
      "metadata": {
        "colab": {
          "base_uri": "https://localhost:8080/",
          "height": 618
        },
        "id": "FgSnwpuygZz7",
        "outputId": "c6fcd643-d2fc-4e93-baaa-4e048180e9d2"
      },
      "outputs": [
        {
          "data": {
            "image/svg+xml": "<?xml version=\"1.0\" encoding=\"UTF-8\" standalone=\"no\"?>\n<!DOCTYPE svg PUBLIC \"-//W3C//DTD SVG 1.1//EN\"\n \"http://www.w3.org/Graphics/SVG/1.1/DTD/svg11.dtd\">\n<!-- Generated by graphviz version 2.43.0 (0)\n -->\n<!-- Title: Tree Pages: 1 -->\n<svg width=\"326pt\" height=\"314pt\"\n viewBox=\"0.00 0.00 326.00 314.00\" xmlns=\"http://www.w3.org/2000/svg\" xmlns:xlink=\"http://www.w3.org/1999/xlink\">\n<g id=\"graph0\" class=\"graph\" transform=\"scale(1 1) rotate(0) translate(4 310)\">\n<title>Tree</title>\n<polygon fill=\"white\" stroke=\"transparent\" points=\"-4,4 -4,-310 322,-310 322,4 -4,4\"/>\n<!-- 0 -->\n<g id=\"node1\" class=\"node\">\n<title>0</title>\n<path fill=\"#bddef6\" stroke=\"black\" d=\"M180,-306C180,-306 73,-306 73,-306 67,-306 61,-300 61,-294 61,-294 61,-235 61,-235 61,-229 67,-223 73,-223 73,-223 180,-223 180,-223 186,-223 192,-229 192,-235 192,-235 192,-294 192,-294 192,-300 186,-306 180,-306\"/>\n<text text-anchor=\"middle\" x=\"126.5\" y=\"-290.8\" font-family=\"Helvetica,sans-Serif\" font-size=\"14.00\">A2 &lt;= 0.5</text>\n<text text-anchor=\"middle\" x=\"126.5\" y=\"-275.8\" font-family=\"Helvetica,sans-Serif\" font-size=\"14.00\">entropy = 0.971</text>\n<text text-anchor=\"middle\" x=\"126.5\" y=\"-260.8\" font-family=\"Helvetica,sans-Serif\" font-size=\"14.00\">samples = 5</text>\n<text text-anchor=\"middle\" x=\"126.5\" y=\"-245.8\" font-family=\"Helvetica,sans-Serif\" font-size=\"14.00\">value = [2, 3]</text>\n<text text-anchor=\"middle\" x=\"126.5\" y=\"-230.8\" font-family=\"Helvetica,sans-Serif\" font-size=\"14.00\">class = 1</text>\n</g>\n<!-- 1 -->\n<g id=\"node2\" class=\"node\">\n<title>1</title>\n<path fill=\"#399de5\" stroke=\"black\" d=\"M101,-179.5C101,-179.5 12,-179.5 12,-179.5 6,-179.5 0,-173.5 0,-167.5 0,-167.5 0,-123.5 0,-123.5 0,-117.5 6,-111.5 12,-111.5 12,-111.5 101,-111.5 101,-111.5 107,-111.5 113,-117.5 113,-123.5 113,-123.5 113,-167.5 113,-167.5 113,-173.5 107,-179.5 101,-179.5\"/>\n<text text-anchor=\"middle\" x=\"56.5\" y=\"-164.3\" font-family=\"Helvetica,sans-Serif\" font-size=\"14.00\">entropy = 0.0</text>\n<text text-anchor=\"middle\" x=\"56.5\" y=\"-149.3\" font-family=\"Helvetica,sans-Serif\" font-size=\"14.00\">samples = 2</text>\n<text text-anchor=\"middle\" x=\"56.5\" y=\"-134.3\" font-family=\"Helvetica,sans-Serif\" font-size=\"14.00\">value = [0, 2]</text>\n<text text-anchor=\"middle\" x=\"56.5\" y=\"-119.3\" font-family=\"Helvetica,sans-Serif\" font-size=\"14.00\">class = 1</text>\n</g>\n<!-- 0&#45;&gt;1 -->\n<g id=\"edge1\" class=\"edge\">\n<title>0&#45;&gt;1</title>\n<path fill=\"none\" stroke=\"black\" d=\"M102.21,-222.91C95.55,-211.76 88.3,-199.66 81.59,-188.44\"/>\n<polygon fill=\"black\" stroke=\"black\" points=\"84.48,-186.45 76.34,-179.67 78.47,-190.05 84.48,-186.45\"/>\n<text text-anchor=\"middle\" x=\"70.25\" y=\"-200.21\" font-family=\"Helvetica,sans-Serif\" font-size=\"14.00\">True</text>\n</g>\n<!-- 2 -->\n<g id=\"node3\" class=\"node\">\n<title>2</title>\n<path fill=\"#f2c09c\" stroke=\"black\" d=\"M250,-187C250,-187 143,-187 143,-187 137,-187 131,-181 131,-175 131,-175 131,-116 131,-116 131,-110 137,-104 143,-104 143,-104 250,-104 250,-104 256,-104 262,-110 262,-116 262,-116 262,-175 262,-175 262,-181 256,-187 250,-187\"/>\n<text text-anchor=\"middle\" x=\"196.5\" y=\"-171.8\" font-family=\"Helvetica,sans-Serif\" font-size=\"14.00\">A3 &lt;= 0.5</text>\n<text text-anchor=\"middle\" x=\"196.5\" y=\"-156.8\" font-family=\"Helvetica,sans-Serif\" font-size=\"14.00\">entropy = 0.918</text>\n<text text-anchor=\"middle\" x=\"196.5\" y=\"-141.8\" font-family=\"Helvetica,sans-Serif\" font-size=\"14.00\">samples = 3</text>\n<text text-anchor=\"middle\" x=\"196.5\" y=\"-126.8\" font-family=\"Helvetica,sans-Serif\" font-size=\"14.00\">value = [2, 1]</text>\n<text text-anchor=\"middle\" x=\"196.5\" y=\"-111.8\" font-family=\"Helvetica,sans-Serif\" font-size=\"14.00\">class = 0</text>\n</g>\n<!-- 0&#45;&gt;2 -->\n<g id=\"edge2\" class=\"edge\">\n<title>0&#45;&gt;2</title>\n<path fill=\"none\" stroke=\"black\" d=\"M150.79,-222.91C156.05,-214.1 161.68,-204.7 167.12,-195.61\"/>\n<polygon fill=\"black\" stroke=\"black\" points=\"170.13,-197.4 172.26,-187.02 164.12,-193.81 170.13,-197.4\"/>\n<text text-anchor=\"middle\" x=\"178.35\" y=\"-207.57\" font-family=\"Helvetica,sans-Serif\" font-size=\"14.00\">False</text>\n</g>\n<!-- 3 -->\n<g id=\"node4\" class=\"node\">\n<title>3</title>\n<path fill=\"#e58139\" stroke=\"black\" d=\"M175,-68C175,-68 86,-68 86,-68 80,-68 74,-62 74,-56 74,-56 74,-12 74,-12 74,-6 80,0 86,0 86,0 175,0 175,0 181,0 187,-6 187,-12 187,-12 187,-56 187,-56 187,-62 181,-68 175,-68\"/>\n<text text-anchor=\"middle\" x=\"130.5\" y=\"-52.8\" font-family=\"Helvetica,sans-Serif\" font-size=\"14.00\">entropy = 0.0</text>\n<text text-anchor=\"middle\" x=\"130.5\" y=\"-37.8\" font-family=\"Helvetica,sans-Serif\" font-size=\"14.00\">samples = 2</text>\n<text text-anchor=\"middle\" x=\"130.5\" y=\"-22.8\" font-family=\"Helvetica,sans-Serif\" font-size=\"14.00\">value = [2, 0]</text>\n<text text-anchor=\"middle\" x=\"130.5\" y=\"-7.8\" font-family=\"Helvetica,sans-Serif\" font-size=\"14.00\">class = 0</text>\n</g>\n<!-- 2&#45;&gt;3 -->\n<g id=\"edge3\" class=\"edge\">\n<title>2&#45;&gt;3</title>\n<path fill=\"none\" stroke=\"black\" d=\"M171.92,-103.73C166.65,-94.97 161.06,-85.7 155.76,-76.91\"/>\n<polygon fill=\"black\" stroke=\"black\" points=\"158.73,-75.06 150.57,-68.3 152.74,-78.67 158.73,-75.06\"/>\n</g>\n<!-- 4 -->\n<g id=\"node5\" class=\"node\">\n<title>4</title>\n<path fill=\"#399de5\" stroke=\"black\" d=\"M306,-68C306,-68 217,-68 217,-68 211,-68 205,-62 205,-56 205,-56 205,-12 205,-12 205,-6 211,0 217,0 217,0 306,0 306,0 312,0 318,-6 318,-12 318,-12 318,-56 318,-56 318,-62 312,-68 306,-68\"/>\n<text text-anchor=\"middle\" x=\"261.5\" y=\"-52.8\" font-family=\"Helvetica,sans-Serif\" font-size=\"14.00\">entropy = 0.0</text>\n<text text-anchor=\"middle\" x=\"261.5\" y=\"-37.8\" font-family=\"Helvetica,sans-Serif\" font-size=\"14.00\">samples = 1</text>\n<text text-anchor=\"middle\" x=\"261.5\" y=\"-22.8\" font-family=\"Helvetica,sans-Serif\" font-size=\"14.00\">value = [0, 1]</text>\n<text text-anchor=\"middle\" x=\"261.5\" y=\"-7.8\" font-family=\"Helvetica,sans-Serif\" font-size=\"14.00\">class = 1</text>\n</g>\n<!-- 2&#45;&gt;4 -->\n<g id=\"edge4\" class=\"edge\">\n<title>2&#45;&gt;4</title>\n<path fill=\"none\" stroke=\"black\" d=\"M220.7,-103.73C225.9,-94.97 231.4,-85.7 236.62,-76.91\"/>\n<polygon fill=\"black\" stroke=\"black\" points=\"239.64,-78.69 241.73,-68.3 233.62,-75.11 239.64,-78.69\"/>\n</g>\n</g>\n</svg>\n",
            "text/plain": [
              "<graphviz.sources.Source at 0x7ff489abf400>"
            ]
          },
          "execution_count": 200,
          "metadata": {},
          "output_type": "execute_result"
        }
      ],
      "source": [
        "# Vamos ver como ficou nossa árvore\n",
        "model_graph = plot_tree(model.prune,'/home/fonta42/Desktop/IA/T8 - Arvore de Decisao/Diabetes.pruned')\n",
        "model_graph"
      ]
    },
    {
      "cell_type": "code",
      "execution_count": null,
      "metadata": {
        "colab": {
          "base_uri": "https://localhost:8080/"
        },
        "id": "AcvLYkhPgaQN",
        "outputId": "ce98a396-8e85-4267-ebd5-103ba9424ec7"
      },
      "outputs": [
        {
          "name": "stdout",
          "output_type": "stream",
          "text": [
            "Acurácia: 0.0\n"
          ]
        }
      ],
      "source": [
        "# Vamos testar o novo modelo nos mesmos dados de teste\n",
        "y_pred = model.prune.predict(X_test)\n",
        "\n",
        "# Acurácia do novo modelo\n",
        "print(\"Acurácia:\",metrics.accuracy_score(y_test, y_pred))"
      ]
    }
  ],
  "metadata": {
    "colab": {
      "name": "Exemplo-Arvore-Decisao.ipynb",
      "provenance": []
    },
    "kernelspec": {
      "display_name": "Python 3",
      "name": "python3"
    },
    "language_info": {
      "codemirror_mode": {
        "name": "ipython",
        "version": 3
      },
      "file_extension": ".py",
      "mimetype": "text/x-python",
      "name": "python",
      "nbconvert_exporter": "python",
      "pygments_lexer": "ipython3",
      "version": "3.10.0"
    }
  },
  "nbformat": 4,
  "nbformat_minor": 0
}
