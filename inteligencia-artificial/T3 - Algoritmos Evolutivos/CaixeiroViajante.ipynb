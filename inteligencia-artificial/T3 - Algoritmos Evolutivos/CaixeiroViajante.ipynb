{
 "cells": [
  {
   "cell_type": "markdown",
   "source": [
    "# Atividade Prática Algoritmos Evolutivos\n",
    "## Aluno: Carlos Eduardo Fontaneli RA: 769949"
   ],
   "metadata": {
    "collapsed": false,
    "pycharm": {
     "name": "#%% md\n"
    }
   }
  },
  {
   "cell_type": "markdown",
   "source": [
    "## O Problema do Caixeiro Viajante\n",
    "Suponha que um caixeiro viajante tenha que visitar n cidades diferentes, iniciando e\n",
    "encerrando sua viagem na primeira cidade. Suponha, também, que não importa a\n",
    "ordem com que as cidades são visitadas e que de cada uma delas o caixeiro pode ir\n",
    "diretamente para qualquer outra. O problema do caixeiro viajante consiste em descobrir\n",
    "a rota que torna mínima a viagem total."
   ],
   "metadata": {
    "collapsed": false,
    "pycharm": {
     "name": "#%% md\n"
    }
   }
  },
  {
   "cell_type": "markdown",
   "source": [
    "### Bibliotecas\n",
    "Para a resolução dos problemas é necessário importar as seguintes bibliotecas auxiliares:\n",
    "*random*: para geração de valores aleatórios;\n",
    "*numpy*: para utilização de funções matemáticas específicas;\n",
    "*pandas*: para utilização de dataframes para tratamento de informações;\n",
    "*operator*: para busca de elementos em dicionários;"
   ],
   "metadata": {
    "collapsed": false,
    "pycharm": {
     "name": "#%% md\n"
    }
   }
  },
  {
   "cell_type": "code",
   "execution_count": 106,
   "outputs": [],
   "source": [
    "# Importando as bibliotecas auxiliares necessárias\n",
    "import random, operator, pandas, numpy"
   ],
   "metadata": {
    "collapsed": false,
    "pycharm": {
     "name": "#%%\n"
    }
   }
  },
  {
   "cell_type": "markdown",
   "source": [
    "### Cidades\n",
    "\n",
    "As cidades foram tratadas como classes, pois dessa forma é possível defini-las como um ponto no plano cartesiano (x, y) tornando possível calcular a distância entre elas pelo método Euclidiano. Ademais, definindo-as como classes defini-se para elas métodos próprios de cálculo de distância e representação para cada objeto."
   ],
   "metadata": {
    "collapsed": false,
    "pycharm": {
     "name": "#%% md\n"
    }
   }
  },
  {
   "cell_type": "code",
   "execution_count": 107,
   "outputs": [],
   "source": [
    "# Declarando as cidades como classe\n",
    "class Cidade:\n",
    "    quantidade_cidades = 0\n",
    "    def __init__(self, eixo_x, eixo_y):\n",
    "        self.eixo_x= eixo_x\n",
    "        self.eixo_y = eixo_y\n",
    "        # Nomeando as cidades por números conforme elas são geradas\n",
    "        self.nome_cidade = self.quantidade_cidades\n",
    "        Cidade.quantidade_cidades += 1\n",
    "\n",
    "    # Calcula a distância entre a classe atual e uma dada cidade\n",
    "    # utiliza o cálculo Euclidiano de distância\n",
    "    def distancia_entre_cidades(self, cidade):\n",
    "        distancia_x = abs(self.eixo_x - cidade.eixo_x)\n",
    "        distancia_y = abs(self.eixo_y - cidade.eixo_y)\n",
    "        distancia = numpy.sqrt((distancia_x ** 2) + (distancia_y ** 2))\n",
    "        return  distancia\n",
    "\n",
    "    def __repr__(self):\n",
    "        return f'Cidade {self.nome_cidade}: posição({self.eixo_x},{self.eixo_y})'\n",
    "        # return \"[ Cidade: \" +  + str(self.eixo_x) + \", Y = \" + str(self.eixo_y) + \"]\""
   ],
   "metadata": {
    "collapsed": false,
    "pycharm": {
     "name": "#%%\n"
    }
   }
  },
  {
   "cell_type": "markdown",
   "source": [
    "### Fitness\n",
    "\n",
    "A função 'fitness' também foi definida como classe para que o objeto podusse receber um percurso(possível trajeto do Caixeiro Viajante) e ser definidas as funções de cálculo de distância do percurso dado e, com a distância, calcular o 'fitness' do trajeto de uma forma que quanto maior o caminho percorrido menor o 'fitness'."
   ],
   "metadata": {
    "collapsed": false,
    "pycharm": {
     "name": "#%% md\n"
    }
   }
  },
  {
   "cell_type": "code",
   "execution_count": 108,
   "outputs": [],
   "source": [
    "# Definindo a classe Fitness\n",
    "class Fitness:\n",
    "    # A classe recebe um percurso para ser calculado seu valor ‘fitness’\n",
    "    # baseado na distância a ser percorrido pelo percurso\n",
    "    def __init__(self, percurso):\n",
    "        self.percurso = percurso\n",
    "        self.distancia = 0\n",
    "        self.fitness = 0\n",
    "\n",
    "    def percurso_distancia(self):\n",
    "        if self.distancia == 0:\n",
    "            distancia_percorrida = 0\n",
    "            # Calculando a distância do percurso atual\n",
    "            for cidade in range(0, len(self.percurso)):\n",
    "                cidade_atual = self.percurso[cidade]\n",
    "                cidade_proxima = None\n",
    "                # Confere se há uma cidade ainda não visitada\n",
    "                if cidade + 1 < len(self.percurso):\n",
    "                    cidade_proxima = self.percurso[cidade + 1]\n",
    "                # Caso todas as cidades tiverem sido visitadas, retorna a cidade inicial\n",
    "                else:\n",
    "                    cidade_proxima = self.percurso[0]\n",
    "                # Calcula a distância entre as cidades e soma à distância do percurso atual\n",
    "                distancia_percorrida += cidade_atual.distancia_entre_cidades(cidade_proxima)\n",
    "            self.distancia = distancia_percorrida\n",
    "        return self.distancia\n",
    "\n",
    "    # Cálculo do ‘fitness’, quanto maior a distância menor o ‘fitness’ do percurso\n",
    "    def percurso_fitness(self):\n",
    "        if self.fitness == 0:\n",
    "            # Normalização do fitness\n",
    "            self.fitness = 1.0 / float(self.percurso_distancia())\n",
    "        return self.fitness"
   ],
   "metadata": {
    "collapsed": false,
    "pycharm": {
     "name": "#%%\n"
    }
   }
  },
  {
   "cell_type": "markdown",
   "source": [
    "### Percursos e População Inicial\n",
    "\n",
    "Através da biblioteca **random** criou-se um método para gerar amostras de percursos aleatórias baseado na quantidade de cidades a serem percorridas. O percurso é gerado através da escolha de uma sequência aleatória(amostra) das cidades passadas a função.\n",
    "A população inicial é definida através de uma lista gerada pela função de percurso e contém n(tamanho da população) indivíduos."
   ],
   "metadata": {
    "collapsed": false,
    "pycharm": {
     "name": "#%% md\n"
    }
   }
  },
  {
   "cell_type": "code",
   "execution_count": 109,
   "outputs": [],
   "source": [
    "# Gerando um percurso\n",
    "def gera_percurso(cidades):\n",
    "    percurso = random.sample(cidades, len(cidades))\n",
    "    return percurso"
   ],
   "metadata": {
    "collapsed": false,
    "pycharm": {
     "name": "#%%\n"
    }
   }
  },
  {
   "cell_type": "code",
   "execution_count": 110,
   "outputs": [],
   "source": [
    "# Gerador de populacao inicial\n",
    "def populacao_inicial(populacao_tamanho, cidades):\n",
    "    populacao = []\n",
    "    # Gerando individuos como percursos\n",
    "    for individuo in range(0, populacao_tamanho):\n",
    "        populacao.append(gera_percurso(cidades))\n",
    "    return populacao"
   ],
   "metadata": {
    "collapsed": false,
    "pycharm": {
     "name": "#%%\n"
    }
   }
  },
  {
   "cell_type": "markdown",
   "source": [
    "### Elitismo\n",
    "\n",
    "A elite é representada por um dicionário ao qual organiza a população por ordem decrescente de 'fitness'. A chave representa o percurso e o valor é o 'fitness' do percurso."
   ],
   "metadata": {
    "collapsed": false,
    "pycharm": {
     "name": "#%% md\n"
    }
   }
  },
  {
   "cell_type": "code",
   "execution_count": 111,
   "outputs": [],
   "source": [
    "# Definindo os melhores individuos rankeando uma populacao do melhor ao pior\n",
    "def elitismo(populacao):\n",
    "    fitnees_individuos = {}\n",
    "    for individuo in range(0, len(populacao)):\n",
    "        fitnees_individuos[individuo] = Fitness(populacao[individuo]).percurso_fitness()\n",
    "    # Ordena do melhor ao pior usando o fitness como parâmetro\n",
    "    return sorted(fitnees_individuos.items(), key = operator.itemgetter(1), reverse=True)"
   ],
   "metadata": {
    "collapsed": false,
    "pycharm": {
     "name": "#%%\n"
    }
   }
  },
  {
   "cell_type": "markdown",
   "source": [
    "### Seleção dos Pais\n",
    "A seleção dos pais é uma combinação entre a elite da população e os demais inviduos. Fora a elite, os individuos são selecionados através de uma probabilidade de seleção relacionada ao seu valor 'fitness' em relação ao 'fitness' da população."
   ],
   "metadata": {
    "collapsed": false,
    "pycharm": {
     "name": "#%% md\n"
    }
   }
  },
  {
   "cell_type": "code",
   "execution_count": 112,
   "outputs": [],
   "source": [
    "# Selecionando os pais\n",
    "def selecao(elitismo, tamanho_elite):\n",
    "    individuos_selecionados = []\n",
    "    # Transformando a população ordenada em um 'dataframe' para cálculos do 'fitness'\n",
    "    # relativo à população\n",
    "    df = pandas.DataFrame(numpy.array(elitismo), columns=['Individuo', 'Fitness'])\n",
    "    df['cum_sum'] = df.Fitness.cumsum()\n",
    "    # 'fitness' da população baseado na porcentagem do 'fitness' ao longo do percurso\n",
    "    # pelo 'fitness' total da população\n",
    "    df['cum_perc'] = 100 * df.cum_sum / df.Fitness.sum()\n",
    "\n",
    "    # Selecionando a elite\n",
    "    for individuo in range(0, tamanho_elite):\n",
    "        individuos_selecionados.append(elitismo[individuo][0])\n",
    "    # Selecionando os demais indivíduos\n",
    "    for individuo in range(0, len(elitismo) - tamanho_elite):\n",
    "        # Probabilidade de seleção\n",
    "        escolhido = 100 * random.random()\n",
    "        for individuo in range(0, len(elitismo)):\n",
    "            if escolhido <= df.iat[individuo, 3]:\n",
    "                individuos_selecionados.append(elitismo[individuo][0])\n",
    "                break\n",
    "    return individuos_selecionados"
   ],
   "metadata": {
    "collapsed": false,
    "pycharm": {
     "name": "#%%\n"
    }
   }
  },
  {
   "cell_type": "markdown",
   "source": [
    "### Pais, Cruzamento e Cruzamento de Populações\n",
    "\n",
    "Através do uso da seleção os pais são retirados da população inicial.\n",
    "O cruzamento é feito por meio do 'ordered crossover' onde uma porção, selecionada aleatoriamente, dos genes do primeiro pai é selecionado e tranferido para o filho, o qual tem seu cromossomo restante completado com os genes do segundo pai.\n",
    "Por fim, o cruzamento é generalizado para toda uma população por meio da função que recebe um grupo de pais e o tamanho da elite. A função reserva a elite para a geração futura e gera os demais filhos por meio do cruzamento entre os pais.\n"
   ],
   "metadata": {
    "collapsed": false,
    "pycharm": {
     "name": "#%% md\n"
    }
   }
  },
  {
   "cell_type": "code",
   "execution_count": 113,
   "outputs": [],
   "source": [
    "# Gerando os pais que Irã fazer parte do cruzamento\n",
    "def pais(populacao, individuos_selecionados):\n",
    "    cruzamento = []\n",
    "    for individuo in range(0, len(individuos_selecionados)):\n",
    "        cruzamento.append(populacao[individuos_selecionados[individuo]])\n",
    "    return cruzamento"
   ],
   "metadata": {
    "collapsed": false,
    "pycharm": {
     "name": "#%%\n"
    }
   }
  },
  {
   "cell_type": "code",
   "execution_count": 114,
   "outputs": [],
   "source": [
    "# Usando a técnica de 'ordered crossover'\n",
    "def cruzamento(pai1, pai2):\n",
    "    filho = []\n",
    "    genes_pai1 = []\n",
    "    genes_pai2 = []\n",
    "\n",
    "    # Gerando aleatoriamente começo e fim do crossover dos genes relativos ao pai1\n",
    "    gene_a = int(random.random() * len(pai1))\n",
    "    gene_b = int(random.random() * len(pai1))\n",
    "    # Verificando quais são os genes mínimos e máximos para definição do começo e do fim\n",
    "    comeco_pai1 = min(gene_a, gene_b)\n",
    "    fim_pai1 = max(gene_a, gene_b)\n",
    "\n",
    "    # Separando os genes do pai1\n",
    "    for gene in range(comeco_pai1, fim_pai1):\n",
    "        genes_pai1.append(pai1[gene])\n",
    "\n",
    "    # Separando do pai2 os genes do pai1 que não estão presentes no filho\n",
    "    # isso evita que cidades repetidas sejam postas no cromossomo do filho\n",
    "    genes_pai2 = [gene for gene in pai2 if gene not in genes_pai1]\n",
    "\n",
    "    filho = genes_pai1 + genes_pai2\n",
    "\n",
    "    return filho"
   ],
   "metadata": {
    "collapsed": false,
    "pycharm": {
     "name": "#%%\n"
    }
   }
  },
  {
   "cell_type": "code",
   "execution_count": 115,
   "outputs": [],
   "source": [
    "# Generalizando a função de cruzamento para populações inteiras\n",
    "def cruzamento_populacao(pais, tamanho_elite):\n",
    "    filhos = []\n",
    "    tamanho = len(pais) - tamanho_elite\n",
    "    pais_selecionados = random.sample(pais, len(pais))\n",
    "\n",
    "    # Separando a elite\n",
    "    for elitista in range(0, tamanho_elite):\n",
    "        filhos.append(pais[elitista])\n",
    "\n",
    "    # Gerando o resto da populacao por cruzamento\n",
    "    for individuo in range(0, tamanho):\n",
    "        filho = cruzamento(pais_selecionados[individuo], pais_selecionados[len(pais)-individuo-1])\n",
    "        filhos.append(filho)\n",
    "\n",
    "    return filhos"
   ],
   "metadata": {
    "collapsed": false,
    "pycharm": {
     "name": "#%%\n"
    }
   }
  },
  {
   "cell_type": "markdown",
   "source": [
    "### Mutação e Mutação de Populações\n",
    "\n",
    "A mutacação é definida por uma proporção de mutantes em cada população. A mutação genética acontece na troca de um indivíduo por outro durante o percurso.\n",
    "Generaliza-se a mutacação para populações de uma forma onde uma população é passada para função e, aplicando a método de mutação nela, retorna-se uma população nova onde pode ou não conter percursos mutados."
   ],
   "metadata": {
    "collapsed": false,
    "pycharm": {
     "name": "#%% md\n"
    }
   }
  },
  {
   "cell_type": "code",
   "execution_count": 116,
   "outputs": [],
   "source": [
    "# Definindo mutacação da população através da inversao de individuos em um dado percurso\n",
    "def mutacao(percurso, proporcao_mutantes):\n",
    "    for individuo1 in range(len(percurso)):\n",
    "        # Aplicando mutacao condicionado a proporcao passada pra funcao\n",
    "        if random.random() < proporcao_mutantes:\n",
    "            # Escolhendo aleatoriamente um individuo a ser invertido\n",
    "            individuo2 = int(random.random() * len(percurso))\n",
    "\n",
    "            # Realizando inversão\n",
    "            cidade1 = percurso[individuo1]\n",
    "            cidade2 = percurso[individuo2]\n",
    "            percurso[individuo1] = cidade2\n",
    "            percurso[individuo2] = cidade1\n",
    "\n",
    "    return percurso"
   ],
   "metadata": {
    "collapsed": false,
    "pycharm": {
     "name": "#%%\n"
    }
   }
  },
  {
   "cell_type": "code",
   "execution_count": 117,
   "outputs": [],
   "source": [
    "# Generalizando a mutacação para populações\n",
    "def mutacao_populacao(populacao, proporcao_mutantes):\n",
    "    populacao_mutante = []\n",
    "\n",
    "    # Aplicando mutacao em cada indivíduo da população\n",
    "    for percurso in range(0, len(populacao)):\n",
    "        percuso_mutante = mutacao(populacao[percurso], proporcao_mutantes)\n",
    "        populacao_mutante.append(percuso_mutante)\n",
    "\n",
    "    return populacao_mutante"
   ],
   "metadata": {
    "collapsed": false,
    "pycharm": {
     "name": "#%%\n"
    }
   }
  },
  {
   "cell_type": "markdown",
   "source": [
    "### Gerações\n",
    "\n",
    "As novas gerações são definidas através da aplicação dos métodos definidos anteriormente na população atual. Dessa forma, cada população passa pela ordenação da população(elitismo), seleção da elite, definição dos demais pais, geração dos filhos por meio do cruzamento e, por fim, definição da próxima geração após aplicada a mutação nos filhos."
   ],
   "metadata": {
    "collapsed": false,
    "pycharm": {
     "name": "#%% md\n"
    }
   }
  },
  {
   "cell_type": "code",
   "execution_count": 118,
   "outputs": [],
   "source": [
    "# Criações de gerações\n",
    "def geracoes(populacao_atual, tamanho_elite, proporcao_mutantes):\n",
    "    # Definindo a elite\n",
    "    ordenacao_populacao = elitismo(populacao_atual)\n",
    "    # Selecionando os melhores individuos\n",
    "    elite = selecao(ordenacao_populacao, tamanho_elite)\n",
    "    # Selecionando os pais para o cruzamentos\n",
    "    pais_selecionados = pais(populacao_atual, elite)\n",
    "    # Gerando os filhos por meio do cruzamento dos pais\n",
    "    filhos = cruzamento_populacao(pais_selecionados, tamanho_elite)\n",
    "    # Definindo a proxima geracao aplicando mutação sobre os filhos\n",
    "    proxima_geracao = mutacao_populacao(filhos, proporcao_mutantes)\n",
    "\n",
    "    return proxima_geracao"
   ],
   "metadata": {
    "collapsed": false,
    "pycharm": {
     "name": "#%%\n"
    }
   }
  },
  {
   "cell_type": "markdown",
   "source": [
    "### Algoritmo Genético\n",
    "\n",
    "O algoritmo genético por fim é a aplicação dos métodos para buscar o melhor percurso. Assim sendo, ele recebe os genes iniciais a serem evoluídos, a definição do tamanho das populações a serem geradas, o tamanho da elite, a proporção de mutantes e a quantidade de futuras gerações.\n",
    "O algoritmo executa inicialmente exibindo o melhor indivíduo da população inicial gerada, ou seja, o melhor percurso inicial e sua distância. Após a execução de todas as gerações é exibido o indivíduo gerado, isto é, o melhor percurso e sua distância."
   ],
   "metadata": {
    "collapsed": false,
    "pycharm": {
     "name": "#%% md\n"
    }
   }
  },
  {
   "cell_type": "code",
   "execution_count": 119,
   "outputs": [],
   "source": [
    "# Algortimo Genético\n",
    "def algoritmo_genetico(genes_iniciais, tamanho_populacao, tamanho_elite, proporcao_mutantes, numero_geracoes):\n",
    "    populacao = populacao_inicial(tamanho_populacao, genes_iniciais)\n",
    "\n",
    "    # Adicionando a cidade inicial ao final da representação do percurso,\n",
    "    # pois seu valor já está no cálculo da distância\n",
    "    melhor_inicial = populacao[elitismo(populacao)[0][0]].copy()\n",
    "    melhor_inicial.append(melhor_inicial[0])\n",
    "    print(\"Melhor percurso inicial: \", melhor_inicial)\n",
    "    print(\"Distancia do melhor percurso inicial: \" + str(1 / elitismo(populacao)[0][1]) + '\\n')\n",
    "\n",
    "    atual = 1\n",
    "    for individuo in range(0, numero_geracoes):\n",
    "        populacao = geracoes(populacao, tamanho_elite, proporcao_mutantes)\n",
    "        melhor = populacao[elitismo(populacao)[0][0]].copy()\n",
    "        melhor.append(melhor[0])\n",
    "        print(f'Melhor percurso da geração {atual}: ', melhor)\n",
    "        print(f'Distancia do melhor percurso do geração {atual}: ' + str(1 / elitismo(populacao)[0][1]) + '\\n')\n",
    "        atual += 1\n",
    "\n",
    "    # Adicionando a cidade inicial ao final da representação do percurso,\n",
    "    # pois seu valor já está no cálculo da distância\n",
    "    melhor_final = populacao[elitismo(populacao)[0][0]].copy()\n",
    "    melhor_final.append(melhor_final[0])\n",
    "    print(\"Melhor percurso final: \",  melhor_final)\n",
    "    print(\"Distância distância do melhor percurso final: \" + str(1 / elitismo(populacao)[0][1]))\n",
    "\n",
    "    return melhor_final"
   ],
   "metadata": {
    "collapsed": false,
    "pycharm": {
     "name": "#%%\n"
    }
   }
  },
  {
   "cell_type": "markdown",
   "source": [
    "### Execução do Algoritmo Genético"
   ],
   "metadata": {
    "collapsed": false,
    "pycharm": {
     "name": "#%% md\n"
    }
   }
  },
  {
   "cell_type": "code",
   "execution_count": 120,
   "outputs": [
    {
     "name": "stdout",
     "output_type": "stream",
     "text": [
      "Melhor percurso inicial:  [Cidade 3: posição(695,131), Cidade 5: posição(674,145), Cidade 4: posição(911,887), Cidade 0: posição(178,55), Cidade 1: posição(71,20), Cidade 2: posição(616,48), Cidade 3: posição(695,131)]\n",
      "Distancia do melhor percurso inicial: 2685.8874739379644\n",
      "\n",
      "Melhor percurso da geração 1:  [Cidade 1: posição(71,20), Cidade 0: posição(178,55), Cidade 2: posição(616,48), Cidade 3: posição(695,131), Cidade 5: posição(674,145), Cidade 4: posição(911,887), Cidade 1: posição(71,20)]\n",
      "Distancia do melhor percurso do geração 1: 2676.5727983693077\n",
      "\n",
      "Melhor percurso da geração 2:  [Cidade 1: posição(71,20), Cidade 0: posição(178,55), Cidade 2: posição(616,48), Cidade 3: posição(695,131), Cidade 5: posição(674,145), Cidade 4: posição(911,887), Cidade 1: posição(71,20)]\n",
      "Distancia do melhor percurso do geração 2: 2676.5727983693077\n",
      "\n",
      "Melhor percurso da geração 3:  [Cidade 0: posição(178,55), Cidade 2: posição(616,48), Cidade 3: posição(695,131), Cidade 5: posição(674,145), Cidade 4: posição(911,887), Cidade 1: posição(71,20), Cidade 0: posição(178,55)]\n",
      "Distancia do melhor percurso do geração 3: 2676.5727983693073\n",
      "\n",
      "Melhor percurso da geração 4:  [Cidade 0: posição(178,55), Cidade 2: posição(616,48), Cidade 3: posição(695,131), Cidade 5: posição(674,145), Cidade 4: posição(911,887), Cidade 1: posição(71,20), Cidade 0: posição(178,55)]\n",
      "Distancia do melhor percurso do geração 4: 2676.5727983693073\n",
      "\n",
      "Melhor percurso da geração 5:  [Cidade 0: posição(178,55), Cidade 2: posição(616,48), Cidade 3: posição(695,131), Cidade 5: posição(674,145), Cidade 4: posição(911,887), Cidade 1: posição(71,20), Cidade 0: posição(178,55)]\n",
      "Distancia do melhor percurso do geração 5: 2676.5727983693073\n",
      "\n",
      "Melhor percurso da geração 6:  [Cidade 0: posição(178,55), Cidade 2: posição(616,48), Cidade 3: posição(695,131), Cidade 5: posição(674,145), Cidade 4: posição(911,887), Cidade 1: posição(71,20), Cidade 0: posição(178,55)]\n",
      "Distancia do melhor percurso do geração 6: 2676.5727983693073\n",
      "\n",
      "Melhor percurso da geração 7:  [Cidade 0: posição(178,55), Cidade 2: posição(616,48), Cidade 3: posição(695,131), Cidade 5: posição(674,145), Cidade 4: posição(911,887), Cidade 1: posição(71,20), Cidade 0: posição(178,55)]\n",
      "Distancia do melhor percurso do geração 7: 2676.5727983693073\n",
      "\n",
      "Melhor percurso da geração 8:  [Cidade 0: posição(178,55), Cidade 2: posição(616,48), Cidade 3: posição(695,131), Cidade 5: posição(674,145), Cidade 4: posição(911,887), Cidade 1: posição(71,20), Cidade 0: posição(178,55)]\n",
      "Distancia do melhor percurso do geração 8: 2676.5727983693073\n",
      "\n",
      "Melhor percurso da geração 9:  [Cidade 0: posição(178,55), Cidade 2: posição(616,48), Cidade 3: posição(695,131), Cidade 5: posição(674,145), Cidade 4: posição(911,887), Cidade 1: posição(71,20), Cidade 0: posição(178,55)]\n",
      "Distancia do melhor percurso do geração 9: 2676.5727983693073\n",
      "\n",
      "Melhor percurso da geração 10:  [Cidade 0: posição(178,55), Cidade 2: posição(616,48), Cidade 3: posição(695,131), Cidade 5: posição(674,145), Cidade 4: posição(911,887), Cidade 1: posição(71,20), Cidade 0: posição(178,55)]\n",
      "Distancia do melhor percurso do geração 10: 2676.5727983693073\n",
      "\n",
      "Melhor percurso da geração 11:  [Cidade 0: posição(178,55), Cidade 2: posição(616,48), Cidade 3: posição(695,131), Cidade 5: posição(674,145), Cidade 4: posição(911,887), Cidade 1: posição(71,20), Cidade 0: posição(178,55)]\n",
      "Distancia do melhor percurso do geração 11: 2676.5727983693073\n",
      "\n",
      "Melhor percurso da geração 12:  [Cidade 0: posição(178,55), Cidade 2: posição(616,48), Cidade 3: posição(695,131), Cidade 5: posição(674,145), Cidade 4: posição(911,887), Cidade 1: posição(71,20), Cidade 0: posição(178,55)]\n",
      "Distancia do melhor percurso do geração 12: 2676.5727983693073\n",
      "\n",
      "Melhor percurso da geração 13:  [Cidade 0: posição(178,55), Cidade 2: posição(616,48), Cidade 3: posição(695,131), Cidade 5: posição(674,145), Cidade 4: posição(911,887), Cidade 1: posição(71,20), Cidade 0: posição(178,55)]\n",
      "Distancia do melhor percurso do geração 13: 2676.5727983693073\n",
      "\n",
      "Melhor percurso da geração 14:  [Cidade 0: posição(178,55), Cidade 2: posição(616,48), Cidade 3: posição(695,131), Cidade 5: posição(674,145), Cidade 4: posição(911,887), Cidade 1: posição(71,20), Cidade 0: posição(178,55)]\n",
      "Distancia do melhor percurso do geração 14: 2676.5727983693073\n",
      "\n",
      "Melhor percurso da geração 15:  [Cidade 0: posição(178,55), Cidade 2: posição(616,48), Cidade 3: posição(695,131), Cidade 5: posição(674,145), Cidade 4: posição(911,887), Cidade 1: posição(71,20), Cidade 0: posição(178,55)]\n",
      "Distancia do melhor percurso do geração 15: 2676.5727983693073\n",
      "\n",
      "Melhor percurso da geração 16:  [Cidade 0: posição(178,55), Cidade 2: posição(616,48), Cidade 3: posição(695,131), Cidade 5: posição(674,145), Cidade 4: posição(911,887), Cidade 1: posição(71,20), Cidade 0: posição(178,55)]\n",
      "Distancia do melhor percurso do geração 16: 2676.5727983693073\n",
      "\n",
      "Melhor percurso da geração 17:  [Cidade 0: posição(178,55), Cidade 2: posição(616,48), Cidade 3: posição(695,131), Cidade 5: posição(674,145), Cidade 4: posição(911,887), Cidade 1: posição(71,20), Cidade 0: posição(178,55)]\n",
      "Distancia do melhor percurso do geração 17: 2676.5727983693073\n",
      "\n",
      "Melhor percurso da geração 18:  [Cidade 0: posição(178,55), Cidade 2: posição(616,48), Cidade 3: posição(695,131), Cidade 5: posição(674,145), Cidade 4: posição(911,887), Cidade 1: posição(71,20), Cidade 0: posição(178,55)]\n",
      "Distancia do melhor percurso do geração 18: 2676.5727983693073\n",
      "\n",
      "Melhor percurso da geração 19:  [Cidade 0: posição(178,55), Cidade 2: posição(616,48), Cidade 3: posição(695,131), Cidade 5: posição(674,145), Cidade 4: posição(911,887), Cidade 1: posição(71,20), Cidade 0: posição(178,55)]\n",
      "Distancia do melhor percurso do geração 19: 2676.5727983693073\n",
      "\n",
      "Melhor percurso da geração 20:  [Cidade 0: posição(178,55), Cidade 2: posição(616,48), Cidade 3: posição(695,131), Cidade 5: posição(674,145), Cidade 4: posição(911,887), Cidade 1: posição(71,20), Cidade 0: posição(178,55)]\n",
      "Distancia do melhor percurso do geração 20: 2676.5727983693073\n",
      "\n",
      "Melhor percurso da geração 21:  [Cidade 0: posição(178,55), Cidade 2: posição(616,48), Cidade 3: posição(695,131), Cidade 5: posição(674,145), Cidade 4: posição(911,887), Cidade 1: posição(71,20), Cidade 0: posição(178,55)]\n",
      "Distancia do melhor percurso do geração 21: 2676.5727983693073\n",
      "\n",
      "Melhor percurso da geração 22:  [Cidade 0: posição(178,55), Cidade 2: posição(616,48), Cidade 3: posição(695,131), Cidade 5: posição(674,145), Cidade 4: posição(911,887), Cidade 1: posição(71,20), Cidade 0: posição(178,55)]\n",
      "Distancia do melhor percurso do geração 22: 2676.5727983693073\n",
      "\n",
      "Melhor percurso da geração 23:  [Cidade 0: posição(178,55), Cidade 2: posição(616,48), Cidade 3: posição(695,131), Cidade 5: posição(674,145), Cidade 4: posição(911,887), Cidade 1: posição(71,20), Cidade 0: posição(178,55)]\n",
      "Distancia do melhor percurso do geração 23: 2676.5727983693073\n",
      "\n",
      "Melhor percurso da geração 24:  [Cidade 0: posição(178,55), Cidade 2: posição(616,48), Cidade 3: posição(695,131), Cidade 5: posição(674,145), Cidade 4: posição(911,887), Cidade 1: posição(71,20), Cidade 0: posição(178,55)]\n",
      "Distancia do melhor percurso do geração 24: 2676.5727983693073\n",
      "\n",
      "Melhor percurso da geração 25:  [Cidade 0: posição(178,55), Cidade 2: posição(616,48), Cidade 3: posição(695,131), Cidade 5: posição(674,145), Cidade 4: posição(911,887), Cidade 1: posição(71,20), Cidade 0: posição(178,55)]\n",
      "Distancia do melhor percurso do geração 25: 2676.5727983693073\n",
      "\n",
      "Melhor percurso da geração 26:  [Cidade 0: posição(178,55), Cidade 2: posição(616,48), Cidade 3: posição(695,131), Cidade 5: posição(674,145), Cidade 4: posição(911,887), Cidade 1: posição(71,20), Cidade 0: posição(178,55)]\n",
      "Distancia do melhor percurso do geração 26: 2676.5727983693073\n",
      "\n",
      "Melhor percurso da geração 27:  [Cidade 0: posição(178,55), Cidade 2: posição(616,48), Cidade 3: posição(695,131), Cidade 5: posição(674,145), Cidade 4: posição(911,887), Cidade 1: posição(71,20), Cidade 0: posição(178,55)]\n",
      "Distancia do melhor percurso do geração 27: 2676.5727983693073\n",
      "\n",
      "Melhor percurso da geração 28:  [Cidade 0: posição(178,55), Cidade 2: posição(616,48), Cidade 3: posição(695,131), Cidade 5: posição(674,145), Cidade 4: posição(911,887), Cidade 1: posição(71,20), Cidade 0: posição(178,55)]\n",
      "Distancia do melhor percurso do geração 28: 2676.5727983693073\n",
      "\n",
      "Melhor percurso da geração 29:  [Cidade 0: posição(178,55), Cidade 2: posição(616,48), Cidade 3: posição(695,131), Cidade 5: posição(674,145), Cidade 4: posição(911,887), Cidade 1: posição(71,20), Cidade 0: posição(178,55)]\n",
      "Distancia do melhor percurso do geração 29: 2676.5727983693073\n",
      "\n",
      "Melhor percurso da geração 30:  [Cidade 0: posição(178,55), Cidade 2: posição(616,48), Cidade 3: posição(695,131), Cidade 5: posição(674,145), Cidade 4: posição(911,887), Cidade 1: posição(71,20), Cidade 0: posição(178,55)]\n",
      "Distancia do melhor percurso do geração 30: 2676.5727983693073\n",
      "\n",
      "Melhor percurso da geração 31:  [Cidade 0: posição(178,55), Cidade 2: posição(616,48), Cidade 3: posição(695,131), Cidade 5: posição(674,145), Cidade 4: posição(911,887), Cidade 1: posição(71,20), Cidade 0: posição(178,55)]\n",
      "Distancia do melhor percurso do geração 31: 2676.5727983693073\n",
      "\n",
      "Melhor percurso da geração 32:  [Cidade 0: posição(178,55), Cidade 2: posição(616,48), Cidade 3: posição(695,131), Cidade 5: posição(674,145), Cidade 4: posição(911,887), Cidade 1: posição(71,20), Cidade 0: posição(178,55)]\n",
      "Distancia do melhor percurso do geração 32: 2676.5727983693073\n",
      "\n",
      "Melhor percurso da geração 33:  [Cidade 0: posição(178,55), Cidade 2: posição(616,48), Cidade 3: posição(695,131), Cidade 5: posição(674,145), Cidade 4: posição(911,887), Cidade 1: posição(71,20), Cidade 0: posição(178,55)]\n",
      "Distancia do melhor percurso do geração 33: 2676.5727983693073\n",
      "\n",
      "Melhor percurso da geração 34:  [Cidade 0: posição(178,55), Cidade 2: posição(616,48), Cidade 3: posição(695,131), Cidade 5: posição(674,145), Cidade 4: posição(911,887), Cidade 1: posição(71,20), Cidade 0: posição(178,55)]\n",
      "Distancia do melhor percurso do geração 34: 2676.5727983693073\n",
      "\n",
      "Melhor percurso da geração 35:  [Cidade 0: posição(178,55), Cidade 2: posição(616,48), Cidade 3: posição(695,131), Cidade 5: posição(674,145), Cidade 4: posição(911,887), Cidade 1: posição(71,20), Cidade 0: posição(178,55)]\n",
      "Distancia do melhor percurso do geração 35: 2676.5727983693073\n",
      "\n",
      "Melhor percurso da geração 36:  [Cidade 0: posição(178,55), Cidade 2: posição(616,48), Cidade 3: posição(695,131), Cidade 5: posição(674,145), Cidade 4: posição(911,887), Cidade 1: posição(71,20), Cidade 0: posição(178,55)]\n",
      "Distancia do melhor percurso do geração 36: 2676.5727983693073\n",
      "\n",
      "Melhor percurso da geração 37:  [Cidade 0: posição(178,55), Cidade 2: posição(616,48), Cidade 3: posição(695,131), Cidade 5: posição(674,145), Cidade 4: posição(911,887), Cidade 1: posição(71,20), Cidade 0: posição(178,55)]\n",
      "Distancia do melhor percurso do geração 37: 2676.5727983693073\n",
      "\n",
      "Melhor percurso da geração 38:  [Cidade 0: posição(178,55), Cidade 2: posição(616,48), Cidade 3: posição(695,131), Cidade 5: posição(674,145), Cidade 4: posição(911,887), Cidade 1: posição(71,20), Cidade 0: posição(178,55)]\n",
      "Distancia do melhor percurso do geração 38: 2676.5727983693073\n",
      "\n",
      "Melhor percurso da geração 39:  [Cidade 0: posição(178,55), Cidade 2: posição(616,48), Cidade 3: posição(695,131), Cidade 5: posição(674,145), Cidade 4: posição(911,887), Cidade 1: posição(71,20), Cidade 0: posição(178,55)]\n",
      "Distancia do melhor percurso do geração 39: 2676.5727983693073\n",
      "\n",
      "Melhor percurso da geração 40:  [Cidade 0: posição(178,55), Cidade 2: posição(616,48), Cidade 3: posição(695,131), Cidade 5: posição(674,145), Cidade 4: posição(911,887), Cidade 1: posição(71,20), Cidade 0: posição(178,55)]\n",
      "Distancia do melhor percurso do geração 40: 2676.5727983693073\n",
      "\n",
      "Melhor percurso da geração 41:  [Cidade 0: posição(178,55), Cidade 2: posição(616,48), Cidade 3: posição(695,131), Cidade 5: posição(674,145), Cidade 4: posição(911,887), Cidade 1: posição(71,20), Cidade 0: posição(178,55)]\n",
      "Distancia do melhor percurso do geração 41: 2676.5727983693073\n",
      "\n",
      "Melhor percurso da geração 42:  [Cidade 0: posição(178,55), Cidade 2: posição(616,48), Cidade 3: posição(695,131), Cidade 5: posição(674,145), Cidade 4: posição(911,887), Cidade 1: posição(71,20), Cidade 0: posição(178,55)]\n",
      "Distancia do melhor percurso do geração 42: 2676.5727983693073\n",
      "\n",
      "Melhor percurso da geração 43:  [Cidade 0: posição(178,55), Cidade 2: posição(616,48), Cidade 3: posição(695,131), Cidade 5: posição(674,145), Cidade 4: posição(911,887), Cidade 1: posição(71,20), Cidade 0: posição(178,55)]\n",
      "Distancia do melhor percurso do geração 43: 2676.5727983693073\n",
      "\n",
      "Melhor percurso da geração 44:  [Cidade 0: posição(178,55), Cidade 2: posição(616,48), Cidade 3: posição(695,131), Cidade 5: posição(674,145), Cidade 4: posição(911,887), Cidade 1: posição(71,20), Cidade 0: posição(178,55)]\n",
      "Distancia do melhor percurso do geração 44: 2676.5727983693073\n",
      "\n",
      "Melhor percurso da geração 45:  [Cidade 0: posição(178,55), Cidade 2: posição(616,48), Cidade 3: posição(695,131), Cidade 5: posição(674,145), Cidade 4: posição(911,887), Cidade 1: posição(71,20), Cidade 0: posição(178,55)]\n",
      "Distancia do melhor percurso do geração 45: 2676.5727983693073\n",
      "\n",
      "Melhor percurso da geração 46:  [Cidade 0: posição(178,55), Cidade 2: posição(616,48), Cidade 3: posição(695,131), Cidade 5: posição(674,145), Cidade 4: posição(911,887), Cidade 1: posição(71,20), Cidade 0: posição(178,55)]\n",
      "Distancia do melhor percurso do geração 46: 2676.5727983693073\n",
      "\n",
      "Melhor percurso da geração 47:  [Cidade 0: posição(178,55), Cidade 2: posição(616,48), Cidade 3: posição(695,131), Cidade 5: posição(674,145), Cidade 4: posição(911,887), Cidade 1: posição(71,20), Cidade 0: posição(178,55)]\n",
      "Distancia do melhor percurso do geração 47: 2676.5727983693073\n",
      "\n",
      "Melhor percurso da geração 48:  [Cidade 0: posição(178,55), Cidade 2: posição(616,48), Cidade 3: posição(695,131), Cidade 5: posição(674,145), Cidade 4: posição(911,887), Cidade 1: posição(71,20), Cidade 0: posição(178,55)]\n",
      "Distancia do melhor percurso do geração 48: 2676.5727983693073\n",
      "\n",
      "Melhor percurso da geração 49:  [Cidade 0: posição(178,55), Cidade 2: posição(616,48), Cidade 3: posição(695,131), Cidade 5: posição(674,145), Cidade 4: posição(911,887), Cidade 1: posição(71,20), Cidade 0: posição(178,55)]\n",
      "Distancia do melhor percurso do geração 49: 2676.5727983693073\n",
      "\n",
      "Melhor percurso da geração 50:  [Cidade 0: posição(178,55), Cidade 2: posição(616,48), Cidade 3: posição(695,131), Cidade 5: posição(674,145), Cidade 4: posição(911,887), Cidade 1: posição(71,20), Cidade 0: posição(178,55)]\n",
      "Distancia do melhor percurso do geração 50: 2676.5727983693073\n",
      "\n",
      "Melhor percurso da geração 51:  [Cidade 0: posição(178,55), Cidade 2: posição(616,48), Cidade 3: posição(695,131), Cidade 5: posição(674,145), Cidade 4: posição(911,887), Cidade 1: posição(71,20), Cidade 0: posição(178,55)]\n",
      "Distancia do melhor percurso do geração 51: 2676.5727983693073\n",
      "\n",
      "Melhor percurso da geração 52:  [Cidade 0: posição(178,55), Cidade 2: posição(616,48), Cidade 3: posição(695,131), Cidade 5: posição(674,145), Cidade 4: posição(911,887), Cidade 1: posição(71,20), Cidade 0: posição(178,55)]\n",
      "Distancia do melhor percurso do geração 52: 2676.5727983693073\n",
      "\n",
      "Melhor percurso da geração 53:  [Cidade 0: posição(178,55), Cidade 2: posição(616,48), Cidade 3: posição(695,131), Cidade 5: posição(674,145), Cidade 4: posição(911,887), Cidade 1: posição(71,20), Cidade 0: posição(178,55)]\n",
      "Distancia do melhor percurso do geração 53: 2676.5727983693073\n",
      "\n",
      "Melhor percurso da geração 54:  [Cidade 0: posição(178,55), Cidade 2: posição(616,48), Cidade 3: posição(695,131), Cidade 5: posição(674,145), Cidade 4: posição(911,887), Cidade 1: posição(71,20), Cidade 0: posição(178,55)]\n",
      "Distancia do melhor percurso do geração 54: 2676.5727983693073\n",
      "\n",
      "Melhor percurso da geração 55:  [Cidade 0: posição(178,55), Cidade 2: posição(616,48), Cidade 3: posição(695,131), Cidade 5: posição(674,145), Cidade 4: posição(911,887), Cidade 1: posição(71,20), Cidade 0: posição(178,55)]\n",
      "Distancia do melhor percurso do geração 55: 2676.5727983693073\n",
      "\n",
      "Melhor percurso da geração 56:  [Cidade 0: posição(178,55), Cidade 2: posição(616,48), Cidade 3: posição(695,131), Cidade 5: posição(674,145), Cidade 4: posição(911,887), Cidade 1: posição(71,20), Cidade 0: posição(178,55)]\n",
      "Distancia do melhor percurso do geração 56: 2676.5727983693073\n",
      "\n",
      "Melhor percurso da geração 57:  [Cidade 0: posição(178,55), Cidade 2: posição(616,48), Cidade 3: posição(695,131), Cidade 5: posição(674,145), Cidade 4: posição(911,887), Cidade 1: posição(71,20), Cidade 0: posição(178,55)]\n",
      "Distancia do melhor percurso do geração 57: 2676.5727983693073\n",
      "\n",
      "Melhor percurso da geração 58:  [Cidade 0: posição(178,55), Cidade 2: posição(616,48), Cidade 3: posição(695,131), Cidade 5: posição(674,145), Cidade 4: posição(911,887), Cidade 1: posição(71,20), Cidade 0: posição(178,55)]\n",
      "Distancia do melhor percurso do geração 58: 2676.5727983693073\n",
      "\n",
      "Melhor percurso da geração 59:  [Cidade 0: posição(178,55), Cidade 2: posição(616,48), Cidade 3: posição(695,131), Cidade 5: posição(674,145), Cidade 4: posição(911,887), Cidade 1: posição(71,20), Cidade 0: posição(178,55)]\n",
      "Distancia do melhor percurso do geração 59: 2676.5727983693073\n",
      "\n",
      "Melhor percurso da geração 60:  [Cidade 0: posição(178,55), Cidade 2: posição(616,48), Cidade 3: posição(695,131), Cidade 5: posição(674,145), Cidade 4: posição(911,887), Cidade 1: posição(71,20), Cidade 0: posição(178,55)]\n",
      "Distancia do melhor percurso do geração 60: 2676.5727983693073\n",
      "\n",
      "Melhor percurso da geração 61:  [Cidade 0: posição(178,55), Cidade 2: posição(616,48), Cidade 3: posição(695,131), Cidade 5: posição(674,145), Cidade 4: posição(911,887), Cidade 1: posição(71,20), Cidade 0: posição(178,55)]\n",
      "Distancia do melhor percurso do geração 61: 2676.5727983693073\n",
      "\n",
      "Melhor percurso da geração 62:  [Cidade 0: posição(178,55), Cidade 2: posição(616,48), Cidade 3: posição(695,131), Cidade 5: posição(674,145), Cidade 4: posição(911,887), Cidade 1: posição(71,20), Cidade 0: posição(178,55)]\n",
      "Distancia do melhor percurso do geração 62: 2676.5727983693073\n",
      "\n",
      "Melhor percurso da geração 63:  [Cidade 0: posição(178,55), Cidade 2: posição(616,48), Cidade 3: posição(695,131), Cidade 5: posição(674,145), Cidade 4: posição(911,887), Cidade 1: posição(71,20), Cidade 0: posição(178,55)]\n",
      "Distancia do melhor percurso do geração 63: 2676.5727983693073\n",
      "\n",
      "Melhor percurso da geração 64:  [Cidade 0: posição(178,55), Cidade 2: posição(616,48), Cidade 3: posição(695,131), Cidade 5: posição(674,145), Cidade 4: posição(911,887), Cidade 1: posição(71,20), Cidade 0: posição(178,55)]\n",
      "Distancia do melhor percurso do geração 64: 2676.5727983693073\n",
      "\n",
      "Melhor percurso da geração 65:  [Cidade 0: posição(178,55), Cidade 2: posição(616,48), Cidade 3: posição(695,131), Cidade 5: posição(674,145), Cidade 4: posição(911,887), Cidade 1: posição(71,20), Cidade 0: posição(178,55)]\n",
      "Distancia do melhor percurso do geração 65: 2676.5727983693073\n",
      "\n",
      "Melhor percurso da geração 66:  [Cidade 0: posição(178,55), Cidade 2: posição(616,48), Cidade 3: posição(695,131), Cidade 5: posição(674,145), Cidade 4: posição(911,887), Cidade 1: posição(71,20), Cidade 0: posição(178,55)]\n",
      "Distancia do melhor percurso do geração 66: 2676.5727983693073\n",
      "\n",
      "Melhor percurso da geração 67:  [Cidade 0: posição(178,55), Cidade 2: posição(616,48), Cidade 3: posição(695,131), Cidade 5: posição(674,145), Cidade 4: posição(911,887), Cidade 1: posição(71,20), Cidade 0: posição(178,55)]\n",
      "Distancia do melhor percurso do geração 67: 2676.5727983693073\n",
      "\n",
      "Melhor percurso da geração 68:  [Cidade 0: posição(178,55), Cidade 2: posição(616,48), Cidade 3: posição(695,131), Cidade 5: posição(674,145), Cidade 4: posição(911,887), Cidade 1: posição(71,20), Cidade 0: posição(178,55)]\n",
      "Distancia do melhor percurso do geração 68: 2676.5727983693073\n",
      "\n",
      "Melhor percurso da geração 69:  [Cidade 0: posição(178,55), Cidade 2: posição(616,48), Cidade 3: posição(695,131), Cidade 5: posição(674,145), Cidade 4: posição(911,887), Cidade 1: posição(71,20), Cidade 0: posição(178,55)]\n",
      "Distancia do melhor percurso do geração 69: 2676.5727983693073\n",
      "\n",
      "Melhor percurso da geração 70:  [Cidade 0: posição(178,55), Cidade 2: posição(616,48), Cidade 3: posição(695,131), Cidade 5: posição(674,145), Cidade 4: posição(911,887), Cidade 1: posição(71,20), Cidade 0: posição(178,55)]\n",
      "Distancia do melhor percurso do geração 70: 2676.5727983693073\n",
      "\n",
      "Melhor percurso da geração 71:  [Cidade 0: posição(178,55), Cidade 2: posição(616,48), Cidade 3: posição(695,131), Cidade 5: posição(674,145), Cidade 4: posição(911,887), Cidade 1: posição(71,20), Cidade 0: posição(178,55)]\n",
      "Distancia do melhor percurso do geração 71: 2676.5727983693073\n",
      "\n",
      "Melhor percurso da geração 72:  [Cidade 0: posição(178,55), Cidade 2: posição(616,48), Cidade 3: posição(695,131), Cidade 5: posição(674,145), Cidade 4: posição(911,887), Cidade 1: posição(71,20), Cidade 0: posição(178,55)]\n",
      "Distancia do melhor percurso do geração 72: 2676.5727983693073\n",
      "\n",
      "Melhor percurso da geração 73:  [Cidade 0: posição(178,55), Cidade 2: posição(616,48), Cidade 3: posição(695,131), Cidade 5: posição(674,145), Cidade 4: posição(911,887), Cidade 1: posição(71,20), Cidade 0: posição(178,55)]\n",
      "Distancia do melhor percurso do geração 73: 2676.5727983693073\n",
      "\n",
      "Melhor percurso da geração 74:  [Cidade 0: posição(178,55), Cidade 2: posição(616,48), Cidade 3: posição(695,131), Cidade 5: posição(674,145), Cidade 4: posição(911,887), Cidade 1: posição(71,20), Cidade 0: posição(178,55)]\n",
      "Distancia do melhor percurso do geração 74: 2676.5727983693073\n",
      "\n",
      "Melhor percurso da geração 75:  [Cidade 0: posição(178,55), Cidade 2: posição(616,48), Cidade 3: posição(695,131), Cidade 5: posição(674,145), Cidade 4: posição(911,887), Cidade 1: posição(71,20), Cidade 0: posição(178,55)]\n",
      "Distancia do melhor percurso do geração 75: 2676.5727983693073\n",
      "\n",
      "Melhor percurso da geração 76:  [Cidade 0: posição(178,55), Cidade 2: posição(616,48), Cidade 3: posição(695,131), Cidade 5: posição(674,145), Cidade 4: posição(911,887), Cidade 1: posição(71,20), Cidade 0: posição(178,55)]\n",
      "Distancia do melhor percurso do geração 76: 2676.5727983693073\n",
      "\n",
      "Melhor percurso da geração 77:  [Cidade 0: posição(178,55), Cidade 2: posição(616,48), Cidade 3: posição(695,131), Cidade 5: posição(674,145), Cidade 4: posição(911,887), Cidade 1: posição(71,20), Cidade 0: posição(178,55)]\n",
      "Distancia do melhor percurso do geração 77: 2676.5727983693073\n",
      "\n",
      "Melhor percurso da geração 78:  [Cidade 0: posição(178,55), Cidade 2: posição(616,48), Cidade 3: posição(695,131), Cidade 5: posição(674,145), Cidade 4: posição(911,887), Cidade 1: posição(71,20), Cidade 0: posição(178,55)]\n",
      "Distancia do melhor percurso do geração 78: 2676.5727983693073\n",
      "\n",
      "Melhor percurso da geração 79:  [Cidade 0: posição(178,55), Cidade 2: posição(616,48), Cidade 3: posição(695,131), Cidade 5: posição(674,145), Cidade 4: posição(911,887), Cidade 1: posição(71,20), Cidade 0: posição(178,55)]\n",
      "Distancia do melhor percurso do geração 79: 2676.5727983693073\n",
      "\n",
      "Melhor percurso da geração 80:  [Cidade 0: posição(178,55), Cidade 2: posição(616,48), Cidade 3: posição(695,131), Cidade 5: posição(674,145), Cidade 4: posição(911,887), Cidade 1: posição(71,20), Cidade 0: posição(178,55)]\n",
      "Distancia do melhor percurso do geração 80: 2676.5727983693073\n",
      "\n",
      "Melhor percurso da geração 81:  [Cidade 0: posição(178,55), Cidade 2: posição(616,48), Cidade 3: posição(695,131), Cidade 5: posição(674,145), Cidade 4: posição(911,887), Cidade 1: posição(71,20), Cidade 0: posição(178,55)]\n",
      "Distancia do melhor percurso do geração 81: 2676.5727983693073\n",
      "\n",
      "Melhor percurso da geração 82:  [Cidade 0: posição(178,55), Cidade 2: posição(616,48), Cidade 3: posição(695,131), Cidade 5: posição(674,145), Cidade 4: posição(911,887), Cidade 1: posição(71,20), Cidade 0: posição(178,55)]\n",
      "Distancia do melhor percurso do geração 82: 2676.5727983693073\n",
      "\n",
      "Melhor percurso da geração 83:  [Cidade 0: posição(178,55), Cidade 2: posição(616,48), Cidade 3: posição(695,131), Cidade 5: posição(674,145), Cidade 4: posição(911,887), Cidade 1: posição(71,20), Cidade 0: posição(178,55)]\n",
      "Distancia do melhor percurso do geração 83: 2676.5727983693073\n",
      "\n",
      "Melhor percurso da geração 84:  [Cidade 0: posição(178,55), Cidade 2: posição(616,48), Cidade 3: posição(695,131), Cidade 5: posição(674,145), Cidade 4: posição(911,887), Cidade 1: posição(71,20), Cidade 0: posição(178,55)]\n",
      "Distancia do melhor percurso do geração 84: 2676.5727983693073\n",
      "\n",
      "Melhor percurso da geração 85:  [Cidade 0: posição(178,55), Cidade 2: posição(616,48), Cidade 3: posição(695,131), Cidade 5: posição(674,145), Cidade 4: posição(911,887), Cidade 1: posição(71,20), Cidade 0: posição(178,55)]\n",
      "Distancia do melhor percurso do geração 85: 2676.5727983693073\n",
      "\n",
      "Melhor percurso da geração 86:  [Cidade 0: posição(178,55), Cidade 2: posição(616,48), Cidade 3: posição(695,131), Cidade 5: posição(674,145), Cidade 4: posição(911,887), Cidade 1: posição(71,20), Cidade 0: posição(178,55)]\n",
      "Distancia do melhor percurso do geração 86: 2676.5727983693073\n",
      "\n",
      "Melhor percurso da geração 87:  [Cidade 0: posição(178,55), Cidade 2: posição(616,48), Cidade 3: posição(695,131), Cidade 5: posição(674,145), Cidade 4: posição(911,887), Cidade 1: posição(71,20), Cidade 0: posição(178,55)]\n",
      "Distancia do melhor percurso do geração 87: 2676.5727983693073\n",
      "\n",
      "Melhor percurso da geração 88:  [Cidade 0: posição(178,55), Cidade 2: posição(616,48), Cidade 3: posição(695,131), Cidade 5: posição(674,145), Cidade 4: posição(911,887), Cidade 1: posição(71,20), Cidade 0: posição(178,55)]\n",
      "Distancia do melhor percurso do geração 88: 2676.5727983693073\n",
      "\n",
      "Melhor percurso da geração 89:  [Cidade 0: posição(178,55), Cidade 2: posição(616,48), Cidade 3: posição(695,131), Cidade 5: posição(674,145), Cidade 4: posição(911,887), Cidade 1: posição(71,20), Cidade 0: posição(178,55)]\n",
      "Distancia do melhor percurso do geração 89: 2676.5727983693073\n",
      "\n",
      "Melhor percurso da geração 90:  [Cidade 0: posição(178,55), Cidade 2: posição(616,48), Cidade 3: posição(695,131), Cidade 5: posição(674,145), Cidade 4: posição(911,887), Cidade 1: posição(71,20), Cidade 0: posição(178,55)]\n",
      "Distancia do melhor percurso do geração 90: 2676.5727983693073\n",
      "\n",
      "Melhor percurso da geração 91:  [Cidade 0: posição(178,55), Cidade 2: posição(616,48), Cidade 3: posição(695,131), Cidade 5: posição(674,145), Cidade 4: posição(911,887), Cidade 1: posição(71,20), Cidade 0: posição(178,55)]\n",
      "Distancia do melhor percurso do geração 91: 2676.5727983693073\n",
      "\n",
      "Melhor percurso da geração 92:  [Cidade 0: posição(178,55), Cidade 2: posição(616,48), Cidade 3: posição(695,131), Cidade 5: posição(674,145), Cidade 4: posição(911,887), Cidade 1: posição(71,20), Cidade 0: posição(178,55)]\n",
      "Distancia do melhor percurso do geração 92: 2676.5727983693073\n",
      "\n",
      "Melhor percurso da geração 93:  [Cidade 0: posição(178,55), Cidade 2: posição(616,48), Cidade 3: posição(695,131), Cidade 5: posição(674,145), Cidade 4: posição(911,887), Cidade 1: posição(71,20), Cidade 0: posição(178,55)]\n",
      "Distancia do melhor percurso do geração 93: 2676.5727983693073\n",
      "\n",
      "Melhor percurso da geração 94:  [Cidade 0: posição(178,55), Cidade 2: posição(616,48), Cidade 3: posição(695,131), Cidade 5: posição(674,145), Cidade 4: posição(911,887), Cidade 1: posição(71,20), Cidade 0: posição(178,55)]\n",
      "Distancia do melhor percurso do geração 94: 2676.5727983693073\n",
      "\n",
      "Melhor percurso da geração 95:  [Cidade 0: posição(178,55), Cidade 2: posição(616,48), Cidade 3: posição(695,131), Cidade 5: posição(674,145), Cidade 4: posição(911,887), Cidade 1: posição(71,20), Cidade 0: posição(178,55)]\n",
      "Distancia do melhor percurso do geração 95: 2676.5727983693073\n",
      "\n",
      "Melhor percurso da geração 96:  [Cidade 0: posição(178,55), Cidade 2: posição(616,48), Cidade 3: posição(695,131), Cidade 5: posição(674,145), Cidade 4: posição(911,887), Cidade 1: posição(71,20), Cidade 0: posição(178,55)]\n",
      "Distancia do melhor percurso do geração 96: 2676.5727983693073\n",
      "\n",
      "Melhor percurso da geração 97:  [Cidade 0: posição(178,55), Cidade 2: posição(616,48), Cidade 3: posição(695,131), Cidade 5: posição(674,145), Cidade 4: posição(911,887), Cidade 1: posição(71,20), Cidade 0: posição(178,55)]\n",
      "Distancia do melhor percurso do geração 97: 2676.5727983693073\n",
      "\n",
      "Melhor percurso da geração 98:  [Cidade 0: posição(178,55), Cidade 2: posição(616,48), Cidade 3: posição(695,131), Cidade 5: posição(674,145), Cidade 4: posição(911,887), Cidade 1: posição(71,20), Cidade 0: posição(178,55)]\n",
      "Distancia do melhor percurso do geração 98: 2676.5727983693073\n",
      "\n",
      "Melhor percurso da geração 99:  [Cidade 0: posição(178,55), Cidade 2: posição(616,48), Cidade 3: posição(695,131), Cidade 5: posição(674,145), Cidade 4: posição(911,887), Cidade 1: posição(71,20), Cidade 0: posição(178,55)]\n",
      "Distancia do melhor percurso do geração 99: 2676.5727983693073\n",
      "\n",
      "Melhor percurso da geração 100:  [Cidade 0: posição(178,55), Cidade 2: posição(616,48), Cidade 3: posição(695,131), Cidade 5: posição(674,145), Cidade 4: posição(911,887), Cidade 1: posição(71,20), Cidade 0: posição(178,55)]\n",
      "Distancia do melhor percurso do geração 100: 2676.5727983693073\n",
      "\n",
      "Melhor percurso final:  [Cidade 0: posição(178,55), Cidade 2: posição(616,48), Cidade 3: posição(695,131), Cidade 5: posição(674,145), Cidade 4: posição(911,887), Cidade 1: posição(71,20), Cidade 0: posição(178,55)]\n",
      "Distância distância do melhor percurso final: 2676.5727983693073\n"
     ]
    }
   ],
   "source": [
    "# Executando GA\n",
    "\n",
    "# Criando as cidades\n",
    "cidades = []\n",
    "for i in range(0, 6):\n",
    "    cidades.append(Cidade(eixo_x=int(random.random() * 1000), eixo_y=int(random.random() * 1000)))\n",
    "\n",
    "# Aplicando GA nas cidades\n",
    "# como 6 cidades geram apenas 120(5!) possibilidades de caminhos, já que a origem e o fim já são definidos,\n",
    "# o tamanho da população inicial foi setado para 10, para que assim haja uma chance baixa de o caminho ideal já ser\n",
    "# definido logo na primeira geração de indivíduos\n",
    "melhor_percurso = algoritmo_genetico(genes_iniciais=cidades, tamanho_populacao=10, tamanho_elite=3, proporcao_mutantes=0.01, numero_geracoes=100)"
   ],
   "metadata": {
    "collapsed": false,
    "pycharm": {
     "name": "#%%\n"
    }
   }
  },
  {
   "cell_type": "code",
   "execution_count": 120,
   "outputs": [],
   "source": [],
   "metadata": {
    "collapsed": false,
    "pycharm": {
     "name": "#%%\n"
    }
   }
  }
 ],
 "metadata": {
  "kernelspec": {
   "display_name": "Python 3",
   "language": "python",
   "name": "python3"
  },
  "language_info": {
   "codemirror_mode": {
    "name": "ipython",
    "version": 2
   },
   "file_extension": ".py",
   "mimetype": "text/x-python",
   "name": "python",
   "nbconvert_exporter": "python",
   "pygments_lexer": "ipython2",
   "version": "2.7.6"
  }
 },
 "nbformat": 4,
 "nbformat_minor": 0
}