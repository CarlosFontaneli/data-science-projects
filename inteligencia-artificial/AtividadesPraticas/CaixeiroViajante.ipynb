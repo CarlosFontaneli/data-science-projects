{
 "cells": [
  {
   "cell_type": "markdown",
   "source": [
    "# Atividade Prática Algoritmos Evolutivos\n",
    "## Aluno: Carlos Eduardo Fontaneli RA: 769949"
   ],
   "metadata": {
    "collapsed": false,
    "pycharm": {
     "name": "#%% md\n"
    }
   }
  },
  {
   "cell_type": "markdown",
   "source": [
    "## O Problema do Caixeiro Viajante\n",
    "Suponha que um caixeiro viajante tenha que visitar n cidades diferentes, iniciando e\n",
    "encerrando sua viagem na primeira cidade. Suponha, também, que não importa a\n",
    "ordem com que as cidades são visitadas e que de cada uma delas o caixeiro pode ir\n",
    "diretamente para qualquer outra. O problema do caixeiro viajante consiste em descobrir\n",
    "a rota que torna mínima a viagem total."
   ],
   "metadata": {
    "collapsed": false,
    "pycharm": {
     "name": "#%% md\n"
    }
   }
  },
  {
   "cell_type": "markdown",
   "source": [
    "### Bibliotecas\n",
    "Para a resolução dos problemas é necessário importar as seguintes bibliotecas auxiliares:\n",
    "*random*: para geração de valores aleatórios;\n",
    "*numpy*: para utilização de funções matemáticas específicas;\n",
    "*pandas*: para utilização de dataframes para tratamento de informações;\n",
    "*operator*: para busca de elementos em dicionários;"
   ],
   "metadata": {
    "collapsed": false,
    "pycharm": {
     "name": "#%% md\n"
    }
   }
  },
  {
   "cell_type": "code",
   "execution_count": 322,
   "outputs": [],
   "source": [
    "# Importando as bibliotecas auxiliares necessárias\n",
    "import random, operator, pandas, numpy"
   ],
   "metadata": {
    "collapsed": false,
    "pycharm": {
     "name": "#%%\n"
    }
   }
  },
  {
   "cell_type": "markdown",
   "source": [
    "### Cidades\n",
    "\n",
    "As cidades foram tratadas como classes, pois dessa forma é possível defini-las como um ponto no plano cartesiano (x, y) tornando possível calcular a distância entre elas pelo método Euclidiano. Ademais, definindo-as como classes defini-se para elas métodos próprios de cálculo de distância e representação para cada objeto."
   ],
   "metadata": {
    "collapsed": false,
    "pycharm": {
     "name": "#%% md\n"
    }
   }
  },
  {
   "cell_type": "code",
   "execution_count": 323,
   "outputs": [],
   "source": [
    "# Declaḿando as cidades como classe\n",
    "class Cidade:\n",
    "    def __init__(self, x, y):\n",
    "        self.x = x\n",
    "        self.y = y\n",
    "\n",
    "    # Calcula a distância entre a classe atual e uma dada cidade\n",
    "    # utiliza o cálculo Euclidiano de distância\n",
    "    def distancia_entre_cidades(self, cidade):\n",
    "        distancia_x = abs(self.x - cidade.x)\n",
    "        distancia_y = abs(self.y - cidade.y)\n",
    "        distancia = numpy.sqrt((distancia_x ** 2) + (distancia_y ** 2))\n",
    "        return  distancia\n",
    "\n",
    "    def __repr__(self):\n",
    "        return \"(\" + str(self.x) + \",\" + str(self.y) + \")\""
   ],
   "metadata": {
    "collapsed": false,
    "pycharm": {
     "name": "#%%\n"
    }
   }
  },
  {
   "cell_type": "markdown",
   "source": [
    "### Fitness\n",
    "\n",
    "A função 'fitness' também foi definida como classe para que o objeto podusse receber um percurso(possível trajeto do Caixeiro Viajante) e ser definidas as funções de cálculo de distância do percurso dado e, com a distância, calcular o 'fitness' do trajeto de uma forma que quanto maior o caminho percorrido menor o 'fitness'."
   ],
   "metadata": {
    "collapsed": false,
    "pycharm": {
     "name": "#%% md\n"
    }
   }
  },
  {
   "cell_type": "code",
   "execution_count": 324,
   "outputs": [],
   "source": [
    "# Definindo a classe Fitness\n",
    "class Fitness:\n",
    "    # A classe recebe um percurso para ser calculado seu valor ‘fitness’\n",
    "    # baseado na distância a ser percorrido pelo percurso\n",
    "    def __init__(self, percurso):\n",
    "        self.percurso = percurso\n",
    "        self.distancia = 0\n",
    "        self.fitness = 0.0\n",
    "\n",
    "    def percurso_distancia(self):\n",
    "        if self.distancia == 0:\n",
    "            distancia_percorrida = 0\n",
    "            # Calculando a distância do percurso atual\n",
    "            for cidade in range(0, len(self.percurso)):\n",
    "                cidade_atual = self.percurso[cidade]\n",
    "                cidade_proxima = None\n",
    "                # Confere se há uma cidade ainda não visitada\n",
    "                if cidade + 1 < len(self.percurso):\n",
    "                    cidade_proxima = self.percurso[cidade + 1]\n",
    "                # Caso todas as cidades tiverem sido visitadas, retorna a cidade inicial\n",
    "                else:\n",
    "                    cidade_proxima = self.percurso[0]\n",
    "                # Calcula a distância entre as cidades e soma à distância do percurso atual\n",
    "                distancia_percorrida += cidade_atual.distancia_entre_cidades(cidade_proxima)\n",
    "            self.distancia = distancia_percorrida\n",
    "        return self.distancia\n",
    "\n",
    "    # Cálculo do ‘fitness’, quanto maior a distância menor o ‘fitness’ do percurso\n",
    "    def percurso_fitness(self):\n",
    "        if self.fitness == 0:\n",
    "            self.fitness = 1 / float(self.percurso_distancia())\n",
    "        return self.fitness"
   ],
   "metadata": {
    "collapsed": false,
    "pycharm": {
     "name": "#%%\n"
    }
   }
  },
  {
   "cell_type": "markdown",
   "source": [
    "### Percursos e População Inicial\n",
    "\n",
    "Através da biblioteca **random** criou-se um método para gerar amostras de percursos aleatórias baseado na quantidade de cidades a serem percorridas. O percurso é gerado através da escolha de uma sequência aleatória(amostra) das cidades passadas a função.\n",
    "A população inicial é definida através de uma lista gerada pela função de percurso e contém n(tamanho da população) indivíduos."
   ],
   "metadata": {
    "collapsed": false,
    "pycharm": {
     "name": "#%% md\n"
    }
   }
  },
  {
   "cell_type": "code",
   "execution_count": 325,
   "outputs": [],
   "source": [
    "# Gerando um percurso\n",
    "def gera_percurso(cidades):\n",
    "    percurso = random.sample(cidades, len(cidades))\n",
    "    return percurso"
   ],
   "metadata": {
    "collapsed": false,
    "pycharm": {
     "name": "#%%\n"
    }
   }
  },
  {
   "cell_type": "code",
   "execution_count": 326,
   "outputs": [],
   "source": [
    "# Gerador de populacao inicial\n",
    "def populacao_inicial(populacao_tamanho, cidades):\n",
    "    populacao = []\n",
    "    # Gerando individuos como percursos\n",
    "    for individuo in range(0, populacao_tamanho):\n",
    "        populacao.append(gera_percurso(cidades))\n",
    "    return populacao"
   ],
   "metadata": {
    "collapsed": false,
    "pycharm": {
     "name": "#%%\n"
    }
   }
  },
  {
   "cell_type": "markdown",
   "source": [
    "### Elitismo\n",
    "\n",
    "A elite é representada por um dicionário ao qual organiza a população por ordem decrescente de 'fitness'. A chave representa o percurso e o valor é o 'fitness' do percurso."
   ],
   "metadata": {
    "collapsed": false,
    "pycharm": {
     "name": "#%% md\n"
    }
   }
  },
  {
   "cell_type": "code",
   "execution_count": 327,
   "outputs": [],
   "source": [
    "# Definindo os melhores individuos rankeando uma populacao do melhor ao pior\n",
    "def elitismo(populacao):\n",
    "    fitnees_individuos = {}\n",
    "    for individuo in range(0, len(populacao)):\n",
    "        fitnees_individuos[individuo] = Fitness(populacao[individuo]).percurso_fitness()\n",
    "    # Ordena do melhor ao piro\n",
    "    return sorted(fitnees_individuos.items(), key = operator.itemgetter(1), reverse=True)"
   ],
   "metadata": {
    "collapsed": false,
    "pycharm": {
     "name": "#%%\n"
    }
   }
  },
  {
   "cell_type": "markdown",
   "source": [
    "### Seleção dos Pais\n",
    "A seleção dos pais é uma combinação entre a elite da população e os demais inviduos. Fora a elite, os individuos são selecionados através de uma probabilidade de seleção relacionada ao seu valor 'fitness' em relação ao 'fitness' da população."
   ],
   "metadata": {
    "collapsed": false,
    "pycharm": {
     "name": "#%% md\n"
    }
   }
  },
  {
   "cell_type": "code",
   "execution_count": 328,
   "outputs": [],
   "source": [
    "# Selecionando os pais\n",
    "def selecao(elitismo, tamanho_elite):\n",
    "    individuos_selecionados = []\n",
    "    # Transformando a população ordenada em um 'dataframe' para cálculos do 'fitness'\n",
    "    # relativo à população\n",
    "    df = pandas.DataFrame(numpy.array(elitismo), columns=['Individuo', 'Fitness'])\n",
    "    df['cum_sum'] = df.Fitness.cumsum()\n",
    "    # 'fitness' da população baseado na porcentagem do 'fitness' ao longo do percurso\n",
    "    # pelo 'fitness' total da população\n",
    "    df['cum_perc'] = 100 * df.cum_sum / df.Fitness.sum()\n",
    "\n",
    "    # Selecionando a elite\n",
    "    for individuo in range(0, tamanho_elite):\n",
    "        individuos_selecionados.append(elitismo[individuo][0])\n",
    "    # Selecionando os demais indivíduos\n",
    "    for individuo in range(0, len(elitismo) - tamanho_elite):\n",
    "        # Probabilidade de seleção\n",
    "        escolhido = 100 * random.random()\n",
    "        for individuo in range(0, len(elitismo)):\n",
    "            if escolhido <= df.iat[individuo, 3]:\n",
    "                individuos_selecionados.append(elitismo[individuo][0])\n",
    "                break\n",
    "    return individuos_selecionados"
   ],
   "metadata": {
    "collapsed": false,
    "pycharm": {
     "name": "#%%\n"
    }
   }
  },
  {
   "cell_type": "markdown",
   "source": [
    "### Pais, Cruzamento e Cruzamento de Populações\n",
    "\n",
    "Através do uso da seleção os pais são retirados da população inicial.\n",
    "O cruzamento é feito por meio do 'ordered crossover' onde uma porção, selecionada aleatoriamente, dos genes do primeiro pai é selecionado e tranferido para o filho, o qual tem seu cromossomo restante completado com os genes do segundo pai.\n",
    "Por fim, o cruzamento é generalizado para toda uma população por meio da função que recebe um grupo de pais e o tamanho da elite. A função reserva a elite para a geração futura e gera os demais filhos por meio do cruzamento entre os pais.\n"
   ],
   "metadata": {
    "collapsed": false,
    "pycharm": {
     "name": "#%% md\n"
    }
   }
  },
  {
   "cell_type": "code",
   "execution_count": 329,
   "outputs": [],
   "source": [
    "# Gerando os pais que Irã fazer parte do cruzamento\n",
    "def pais(populacao, individuos_selecionados):\n",
    "    cruzamento = []\n",
    "    for individuo in range(0, len(individuos_selecionados)):\n",
    "        cruzamento.append(populacao[individuos_selecionados[individuo]])\n",
    "    return cruzamento"
   ],
   "metadata": {
    "collapsed": false,
    "pycharm": {
     "name": "#%%\n"
    }
   }
  },
  {
   "cell_type": "code",
   "execution_count": 330,
   "outputs": [],
   "source": [
    "# Usando a técnica de 'ordered crossover'\n",
    "def cruzamento(pai1, pai2):\n",
    "    filho = []\n",
    "    genes_pai1 = []\n",
    "    genes_pai2 = []\n",
    "\n",
    "    # Gerando aleatoriamente começo e fim do crossover dos genes relativos ao pai1\n",
    "    gene_a = int(random.random() * len(pai1))\n",
    "    gene_b = int(random.random() * len(pai1))\n",
    "    # Verificando quais são os genes mínimos e máximos para definição do começo e do fim\n",
    "    comeco_pai1 = min(gene_a, gene_b)\n",
    "    fim_pai1 = max(gene_a, gene_b)\n",
    "\n",
    "    # Separando os genes do pai1\n",
    "    for gene in range(comeco_pai1, fim_pai1):\n",
    "        genes_pai1.append(pai1[gene])\n",
    "\n",
    "    # Separando do pai2 os genes do pai1 que não estão presentes no filho\n",
    "    genes_pai2 = [gene for gene in pai2 if gene not in genes_pai1]\n",
    "\n",
    "    filho = genes_pai1 + genes_pai2\n",
    "\n",
    "    return filho"
   ],
   "metadata": {
    "collapsed": false,
    "pycharm": {
     "name": "#%%\n"
    }
   }
  },
  {
   "cell_type": "code",
   "execution_count": 331,
   "outputs": [],
   "source": [
    "# Generalizando a função de cruzamento para populações inteiras\n",
    "def cruzamento_populacao(pais, tamanho_elite):\n",
    "    filhos = []\n",
    "    tamanho = len(pais) - tamanho_elite\n",
    "    pais_selecionados = random.sample(pais, len(pais))\n",
    "\n",
    "    # Separando a elite\n",
    "    for elitista in range(0, tamanho_elite):\n",
    "        filhos.append(pais[elitista])\n",
    "\n",
    "    # Gerando o resto da populacao por cruzamento\n",
    "    for individuo in range(0, tamanho):\n",
    "        filho = cruzamento(pais_selecionados[individuo], pais_selecionados[len(pais)-individuo-1])\n",
    "        filhos.append(filho)\n",
    "\n",
    "    return filhos"
   ],
   "metadata": {
    "collapsed": false,
    "pycharm": {
     "name": "#%%\n"
    }
   }
  },
  {
   "cell_type": "markdown",
   "source": [
    "### Mutação e Mutação de Populações\n",
    "\n",
    "A mutacação é definida por uma proporção de mutantes em cada população. A mutação genética acontece na troca de um indivíduo por outro durante o percurso.\n",
    "Generaliza-se a mutacação para populações de uma forma onde uma população é passada para função e, aplicando a método de mutação nela, retorna-se uma população nova onde pode ou não conter percursos mutados."
   ],
   "metadata": {
    "collapsed": false,
    "pycharm": {
     "name": "#%% md\n"
    }
   }
  },
  {
   "cell_type": "code",
   "execution_count": 332,
   "outputs": [],
   "source": [
    "# Definindo mutacação da população através da inversao de individuos em um dado percurso\n",
    "def mutacao(percurso, proporcao_mutantes):\n",
    "    for individuo1 in range(len(percurso)):\n",
    "        # Aplicando mutacao condicionado a proporcao passada pra funcao\n",
    "        if random.random() < proporcao_mutantes:\n",
    "            # Escolhendo aleatoriamente um individuo a ser invertido\n",
    "            individuo2 = int(random.random() * len(percurso))\n",
    "\n",
    "            # Realizando inversão\n",
    "            cidade1 = percurso[individuo1]\n",
    "            cidade2 = percurso[individuo2]\n",
    "            percurso[individuo1] = cidade2\n",
    "            percurso[individuo2] = cidade1\n",
    "\n",
    "    return percurso"
   ],
   "metadata": {
    "collapsed": false,
    "pycharm": {
     "name": "#%%\n"
    }
   }
  },
  {
   "cell_type": "code",
   "execution_count": 333,
   "outputs": [],
   "source": [
    "# Generalizando a mutacação para populações\n",
    "def mutacao_populacao(populacao, proporcao_mutantes):\n",
    "    populacao_mutante = []\n",
    "\n",
    "    # Aplicando mutacao em cada indivíduo da população\n",
    "    for percurso in range(0, len(populacao)):\n",
    "        percuso_mutante = mutacao(populacao[percurso], proporcao_mutantes)\n",
    "        populacao_mutante.append(percuso_mutante)\n",
    "\n",
    "    return populacao_mutante"
   ],
   "metadata": {
    "collapsed": false,
    "pycharm": {
     "name": "#%%\n"
    }
   }
  },
  {
   "cell_type": "markdown",
   "source": [
    "### Gerações\n",
    "\n",
    "As novas gerações são definidas através da aplicação dos métodos definidos anteriormente na população atual. Dessa forma, cada população passa pela ordenação da população(elitismo), seleção da elite, definição dos demais pais, geração dos filhos por meio do cruzamento e, por fim, definição da próxima geração após aplicada a mutação nos filhos."
   ],
   "metadata": {
    "collapsed": false,
    "pycharm": {
     "name": "#%% md\n"
    }
   }
  },
  {
   "cell_type": "code",
   "execution_count": 334,
   "outputs": [],
   "source": [
    "# Criações de gerações\n",
    "def geracoes(populacao_atual, tamanho_elite, proporcao_mutantes):\n",
    "    # Definindo a elite\n",
    "    ordenacao_populacao = elitismo(populacao_atual)\n",
    "    # Selecionando os melhores individuos\n",
    "    elite = selecao(ordenacao_populacao, tamanho_elite)\n",
    "    # Selecionando os pais para o cruzamentos\n",
    "    pais_selecionados = pais(populacao_atual, elite)\n",
    "    # Gerando os filhos por meio do cruzamento dos pais\n",
    "    filhos = cruzamento_populacao(pais_selecionados, tamanho_elite)\n",
    "    # Definindo a proxima geracao aplicando mutação sobre os filhos\n",
    "    proxima_geracao = mutacao_populacao(filhos, proporcao_mutantes)\n",
    "\n",
    "    return proxima_geracao"
   ],
   "metadata": {
    "collapsed": false,
    "pycharm": {
     "name": "#%%\n"
    }
   }
  },
  {
   "cell_type": "markdown",
   "source": [
    "### Algoritmo Genético\n",
    "\n",
    "O algoritmo genético por fim é a aplicação dos métodos para buscar o melhor percurso. Assim sendo, ele recebe os genes iniciais a serem evoluídos, a definição do tamanho das populações a serem geradas, o tamanho da elite, a proporção de mutantes e a quantidade de futuras gerações.\n",
    "O algoritmo executa inicialmente exibindo o melhor indivíduo da população inicial gerada, ou seja, o melhor percurso inicial e sua distância. Após a execução de todas as gerações é exibido o indivíduo gerado, isto é, o melhor percurso e sua distância."
   ],
   "metadata": {
    "collapsed": false,
    "pycharm": {
     "name": "#%% md\n"
    }
   }
  },
  {
   "cell_type": "code",
   "execution_count": 335,
   "outputs": [],
   "source": [
    "# Algortimo Genético\n",
    "def algoritmo_genetico(genes_iniciais, tamanho_populacao, tamanho_elite, proporcao_mutantes, numero_geracoes):\n",
    "    populacaos= populacao_inicial(tamanho_populacao, genes_iniciais)\n",
    "\n",
    "    # Adicionando a cidade inicial ao final da representação do percurso\n",
    "    melhor_inicial =  populacaos[elitismo(populacaos)[0][0]]\n",
    "    melhor_inicial.append(melhor_inicial[0])\n",
    "    print(\"Melhor percurso inicial: \", melhor_inicial)\n",
    "    print(\"Distancia do melhor percurso inicial: \" + str(1 / elitismo(populacaos)[0][1]))\n",
    "\n",
    "\n",
    "    for individuo in range(0, numero_geracoes):\n",
    "        populacaos = geracoes(populacaos, tamanho_elite, proporcao_mutantes)\n",
    "\n",
    "    print()\n",
    "\n",
    "    # Adicionando a cidade inicial ao final da representação do percurso\n",
    "    melhor_final = populacaos[elitismo(populacaos)[0][0]]\n",
    "    melhor_final.append(melhor_final[0])\n",
    "    print(\"Melhor percurso final: \",  melhor_final)\n",
    "    print(\"Distância distância do melhor percurso final: \" + str(1 / elitismo(populacaos)[0][1]))\n",
    "\n",
    "    return melhor_final"
   ],
   "metadata": {
    "collapsed": false,
    "pycharm": {
     "name": "#%%\n"
    }
   }
  },
  {
   "cell_type": "markdown",
   "source": [
    "### Execução do Algoritmo Genético"
   ],
   "metadata": {
    "collapsed": false,
    "pycharm": {
     "name": "#%% md\n"
    }
   }
  },
  {
   "cell_type": "code",
   "execution_count": 336,
   "outputs": [
    {
     "name": "stdout",
     "output_type": "stream",
     "text": [
      "Melhor percurso inicial:  [(666,74), (446,309), (60,488), (189,855), (954,890), (892,250), (666,74)]\n",
      "Distancia do melhor percurso inicial: 2831.647919630869\n",
      "\n",
      "Melhor percurso final:  [(666,74), (446,309), (60,488), (189,855), (954,890), (892,250), (666,74)]\n",
      "Distância distância do melhor percurso final: 2831.647919630869\n"
     ]
    }
   ],
   "source": [
    "# Executando GA\n",
    "\n",
    "# Criando as cidades\n",
    "cidades = []\n",
    "for i in range(0, 6):\n",
    "    cidades.append(Cidade(x=int(random.random() * 1000), y=int(random.random() * 1000)))\n",
    "\n",
    "# Aplicando GA nas cidades\n",
    "melhor_percurso = algoritmo_genetico(genes_iniciais=cidades, tamanho_populacao=10, tamanho_elite=3, proporcao_mutantes=0.01, numero_geracoes=100)"
   ],
   "metadata": {
    "collapsed": false,
    "pycharm": {
     "name": "#%%\n"
    }
   }
  },
  {
   "cell_type": "code",
   "execution_count": 336,
   "outputs": [],
   "source": [],
   "metadata": {
    "collapsed": false,
    "pycharm": {
     "name": "#%%\n"
    }
   }
  }
 ],
 "metadata": {
  "kernelspec": {
   "display_name": "Python 3",
   "language": "python",
   "name": "python3"
  },
  "language_info": {
   "codemirror_mode": {
    "name": "ipython",
    "version": 2
   },
   "file_extension": ".py",
   "mimetype": "text/x-python",
   "name": "python",
   "nbconvert_exporter": "python",
   "pygments_lexer": "ipython2",
   "version": "2.7.6"
  }
 },
 "nbformat": 4,
 "nbformat_minor": 0
}